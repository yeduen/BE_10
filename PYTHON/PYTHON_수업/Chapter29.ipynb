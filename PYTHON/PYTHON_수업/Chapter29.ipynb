{
 "cells": [
  {
   "cell_type": "markdown",
   "metadata": {},
   "source": [
    "## 튜플\n",
    "\n",
    "튜플은 list와 비슷한 시퀸스 자료형입니다.\n",
    "\n",
    "단, list와의 차이점은 요소를 바꿀 수 없다는 점입니다.\n",
    "\n",
    "튜플을 생성할 때는 소괄호”()”를 이용합니다.\n",
    "\n",
    "ex) 변수명 = (데이터1, 데이터2, 데이터3)"
   ]
  },
  {
   "cell_type": "code",
   "execution_count": 1,
   "metadata": {},
   "outputs": [
    {
     "name": "stdout",
     "output_type": "stream",
     "text": [
      "(1, 2, 3)\n",
      "1\n",
      "2\n",
      "3\n"
     ]
    }
   ],
   "source": [
    "oz_tuple = (1,2,3)\n",
    "\n",
    "print(oz_tuple)\n",
    "print(oz_tuple[0])\n",
    "print(oz_tuple[1])\n",
    "print(oz_tuple[2])"
   ]
  },
  {
   "cell_type": "code",
   "execution_count": 2,
   "metadata": {},
   "outputs": [
    {
     "ename": "TypeError",
     "evalue": "'tuple' object does not support item assignment",
     "output_type": "error",
     "traceback": [
      "\u001b[31m---------------------------------------------------------------------------\u001b[39m",
      "\u001b[31mTypeError\u001b[39m                                 Traceback (most recent call last)",
      "\u001b[36mCell\u001b[39m\u001b[36m \u001b[39m\u001b[32mIn[2]\u001b[39m\u001b[32m, line 3\u001b[39m\n\u001b[32m      1\u001b[39m \u001b[38;5;66;03m#튜플에 데이터를 변경이 불가하므로 아래 코드 실핼 시 오류가 발생\u001b[39;00m\n\u001b[32m----> \u001b[39m\u001b[32m3\u001b[39m \u001b[43moz_tuple\u001b[49m\u001b[43m[\u001b[49m\u001b[32;43m2\u001b[39;49m\u001b[43m]\u001b[49m  = \u001b[32m5\u001b[39m\n",
      "\u001b[31mTypeError\u001b[39m: 'tuple' object does not support item assignment"
     ]
    }
   ],
   "source": [
    "#튜플에 데이터를 변경이 불가하므로 아래 코드 실핼 시 오류가 발생\n",
    "\n",
    "oz_tuple[2]  = 5"
   ]
  },
  {
   "cell_type": "code",
   "execution_count": 5,
   "metadata": {},
   "outputs": [
    {
     "name": "stdout",
     "output_type": "stream",
     "text": [
      "oz_tuple :  (1, 2, 3, 4)\n",
      "oz_tuple type:  <class 'tuple'>\n"
     ]
    }
   ],
   "source": [
    "oz_tuple = 1, 2, 3, 4\n",
    "\n",
    "print(\"oz_tuple : \", oz_tuple)\n",
    "print(\"oz_tuple type: \", type(oz_tuple))"
   ]
  },
  {
   "cell_type": "code",
   "execution_count": 6,
   "metadata": {},
   "outputs": [
    {
     "name": "stdout",
     "output_type": "stream",
     "text": [
      "1\n",
      "2\n",
      "3\n"
     ]
    }
   ],
   "source": [
    "x, y, z =1, 2, 3\n",
    "print(x)\n",
    "print(y)\n",
    "print(z)\n"
   ]
  },
  {
   "cell_type": "code",
   "execution_count": 8,
   "metadata": {},
   "outputs": [
    {
     "name": "stdout",
     "output_type": "stream",
     "text": [
      "x:  1\n",
      "y:  2\n",
      "\n",
      "x:  2\n",
      "y:  1\n"
     ]
    }
   ],
   "source": [
    "x, y = 1, 2\n",
    "print(\"x: \", x)\n",
    "print(\"y: \", y)\n",
    "print()\n",
    "\n",
    "x,y, = y, x\n",
    "print(\"x: \", x)\n",
    "print(\"y: \", y)"
   ]
  },
  {
   "cell_type": "code",
   "execution_count": 9,
   "metadata": {},
   "outputs": [
    {
     "name": "stdout",
     "output_type": "stream",
     "text": [
      "x: 1\n",
      "y: 2\n"
     ]
    }
   ],
   "source": [
    "def oz_tuple():\n",
    "    return(1,2)\n",
    "\n",
    "x,y = oz_tuple()\n",
    "\n",
    "print(\"x:\", x)\n",
    "print(\"y:\", y)\n"
   ]
  },
  {
   "cell_type": "code",
   "execution_count": 10,
   "metadata": {},
   "outputs": [
    {
     "name": "stdout",
     "output_type": "stream",
     "text": [
      "0 1\n",
      "1 2\n",
      "2 3\n",
      "3 4\n"
     ]
    }
   ],
   "source": [
    "# 튜플을 이용한 내부함수들\n",
    "# c()의 1, fruit는 (1, fruit)이나 괄호를 생략한 상태입니다.\n",
    "\n",
    "for i, fruit in enumerate([1,2,3,4]):\n",
    "    print(i, fruit)"
   ]
  },
  {
   "cell_type": "code",
   "execution_count": 11,
   "metadata": {},
   "outputs": [
    {
     "name": "stdout",
     "output_type": "stream",
     "text": [
      "몫: 2\n",
      "나머지: 1\n"
     ]
    }
   ],
   "source": [
    "# divcode() 사용 시 튜플 형태로 몫과 나머지를 반환\n",
    "a, b = 7, 3\n",
    "x, y = divmod(a, b)\n",
    "\n",
    "print(\"몫:\", x)\n",
    "print(\"나머지:\", y)"
   ]
  },
  {
   "cell_type": "code",
   "execution_count": null,
   "metadata": {},
   "outputs": [],
   "source": []
  },
  {
   "cell_type": "code",
   "execution_count": null,
   "metadata": {},
   "outputs": [],
   "source": []
  },
  {
   "cell_type": "code",
   "execution_count": null,
   "metadata": {},
   "outputs": [],
   "source": []
  },
  {
   "cell_type": "code",
   "execution_count": null,
   "metadata": {},
   "outputs": [],
   "source": []
  }
 ],
 "metadata": {
  "kernelspec": {
   "display_name": "Python 3",
   "language": "python",
   "name": "python3"
  },
  "language_info": {
   "codemirror_mode": {
    "name": "ipython",
    "version": 3
   },
   "file_extension": ".py",
   "mimetype": "text/x-python",
   "name": "python",
   "nbconvert_exporter": "python",
   "pygments_lexer": "ipython3",
   "version": "3.11.9"
  }
 },
 "nbformat": 4,
 "nbformat_minor": 2
}
