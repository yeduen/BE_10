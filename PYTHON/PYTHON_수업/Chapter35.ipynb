{
 "cells": [
  {
   "cell_type": "markdown",
   "metadata": {},
   "source": [
    "## 예외 객체(Exception)\n",
    "\n",
    "Exception을 사용하면 **예외의 종류**에 대해 알 수 있습니다."
   ]
  },
  {
   "cell_type": "code",
   "execution_count": null,
   "metadata": {},
   "outputs": [],
   "source": [
    "try:\n",
    "    x, y = map(int, input(\"밑변과 높이를 입력해주세요\").split(\" \"))\n",
    "    print(f'삼각형의 넓이는 {x * y / 2}입니다.')\n",
    "except:\n",
    "    print(\"정수로 입력하지 않아 계산이 불가능합니다.\")    "
   ]
  },
  {
   "cell_type": "code",
   "execution_count": 1,
   "metadata": {},
   "outputs": [
    {
     "name": "stdout",
     "output_type": "stream",
     "text": [
      "tyoe(exception) <class 'ValueError'>\n",
      "exception: invalid literal for int() with base 10: '3c'\n"
     ]
    }
   ],
   "source": [
    "try:\n",
    "    x, y = map(int, input(\"밑변과 높이를 입력해주세요\").split(\" \"))\n",
    "    print(f'삼각형의 넓이는 {x * y / 2}입니다.')\n",
    "except Exception as exception:\n",
    "    print(\"tyoe(exception)\",  type(exception))\n",
    "    print(\"exception:\", exception)"
   ]
  },
  {
   "cell_type": "code",
   "execution_count": 2,
   "metadata": {},
   "outputs": [
    {
     "name": "stdout",
     "output_type": "stream",
     "text": [
      "3번째 요소 : 4\n"
     ]
    }
   ],
   "source": [
    "numbers = [23, 11, 7, 4, 12]\n",
    "\n",
    "try:\n",
    "    number_input = int(input(\"찾고싶은 값의 위치를 입력해주세요.\"))\n",
    "    print(f'{number_input}번째 요소 : {numbers[number_input]}')\n",
    "except Exception as exception:\n",
    "    print(\"type(exception):\", type(exception))\n",
    "    print(\"exception:\", exception)"
   ]
  },
  {
   "cell_type": "markdown",
   "metadata": {},
   "source": [
    "## 예외 구분하기\n",
    "\n",
    "여러 가지 예외가 발생하는 상황을 구분지어 대비하기 위하여 예외 구분을 합니다.\n",
    "\n",
    "파이썬은 **에러를 구분하고 처리**할 수 있는 기능을 제공합니다.\n",
    "\n",
    "try:\n",
    "\t예외가 발생할 가능성이 있는 구문\n",
    "except 예외 a:\n",
    "\t예외 a가 발생했을 때 실행할 구문\n",
    "except 예외 b:\n",
    "\t예외 b가 발생했을 때 실행할 구문\n",
    "except 예외 c:\n",
    "\t예외 c가 발생했을 때 실행할 구"
   ]
  },
  {
   "cell_type": "code",
   "execution_count": 4,
   "metadata": {},
   "outputs": [
    {
     "name": "stdout",
     "output_type": "stream",
     "text": [
      "리스트의 범위를 벗어났습니다. 입력값을 다시 확인해주세요.\n"
     ]
    }
   ],
   "source": [
    "numbers = [23, 11, 7, 4, 12]\n",
    "\n",
    "try:\n",
    "    number_input = int(input(\"찾고싶은 값의 위치를 입력해주세요.\"))\n",
    "    print(f'{number_input}번째 요소 : {numbers[number_input]}')\n",
    "except ValueError:\n",
    "    print(\"정수를 입력해주세요\")\n",
    "except IndexError:\n",
    "    print(\"리스트의 범위를 벗어났습니다. 입력값을 다시 확인해주세요.\")\n",
    "    "
   ]
  },
  {
   "cell_type": "markdown",
   "metadata": {},
   "source": [
    "## 예외 구분 구문과 예외 객체\n",
    "\n",
    "as 키워드를 이용해 as ‘변수’를 사용할 수 있습니다.\n",
    "\n",
    "예외가 발생하면 as다음에 오는 변수에 예외에 대한 값이 할당되어, 예외 객체의 속성 및 메서드에 접근할 수 있습니다."
   ]
  },
  {
   "cell_type": "code",
   "execution_count": 8,
   "metadata": {},
   "outputs": [
    {
     "name": "stdout",
     "output_type": "stream",
     "text": [
      "정수로 입력해주세요\n",
      "Exception: invalid literal for int() with base 10: 'oz'\n"
     ]
    }
   ],
   "source": [
    "numbers = [23, 11, 7, 4, 12]\n",
    "try:\n",
    "    number_input = int(input(\"찾고싶은 값의 위치를 입력해주세요\"))\n",
    "    print(f'{number_input}번째 요소 : {numbers[number_input]}')\n",
    "except ValueError as exception:\n",
    "    print(\"정수로 입력해주세요\")\n",
    "    print(\"Exception:\", exception)\n",
    "except IndexError as exception:\n",
    "    print(\"리스트의 범위를 벗어났습니다. 입력값을 다시 확인해주세요\")\n",
    "    print(\"Exception:\", exception)"
   ]
  },
  {
   "cell_type": "code",
   "execution_count": null,
   "metadata": {},
   "outputs": [],
   "source": []
  },
  {
   "cell_type": "markdown",
   "metadata": {},
   "source": [
    "## 모든 예외처리(Exception)\n",
    "\n",
    "위 2가지 예외 처리로 처리가 불가능한 경우를 대비해 **모든 예외 처리가 가능**한 Exception을 이용할 수 있습니다."
   ]
  },
  {
   "cell_type": "code",
   "execution_count": 9,
   "metadata": {},
   "outputs": [
    {
     "name": "stdout",
     "output_type": "stream",
     "text": [
      "3번째 요소 : 4\n",
      "대처 불가한 예외가 발생했습니다.\n",
      "Exception: name '에러를' is not defined\n"
     ]
    }
   ],
   "source": [
    "numbers = [23, 11, 7, 4, 12]\n",
    "\n",
    "try:\n",
    "    number_input = int(input(\"찾고싶은 값의 위치를 입력해주세요\"))\n",
    "    print(f'{number_input}번째 요소 : {numbers[number_input]}')\n",
    "    에러를.만들꺼야\n",
    "except ValueError as exception:\n",
    "    print(\"정수로 입력해주세요\")\n",
    "    print(\"Exception:\", exception)\n",
    "except IndexError as exception:\n",
    "    print(\"리스트의 범위를 벗어났습니다. 입력값을 다시 확인해주세요\")\n",
    "    print(\"Exception:\", exception)\n",
    "except Exception as exception:\n",
    "    print(\"대처 불가한 예외가 발생했습니다.\")\n",
    "    print(\"Exception:\", exception)"
   ]
  },
  {
   "cell_type": "code",
   "execution_count": 10,
   "metadata": {},
   "outputs": [
    {
     "name": "stdout",
     "output_type": "stream",
     "text": [
      "2번째 요소 : 30\n"
     ]
    }
   ],
   "source": [
    "numbers = [10, 20, 30, 40, 50]\n",
    "\n",
    "try:\n",
    "    number_input = int(input(\"찾고싶은 값의 위치를 입력해주세요\"))\n",
    "    print(f'{number_input}번째 요소 : {numbers[number_input]}')\n",
    "except ValueError as exception:\n",
    "    print(\"정수로 입력해주세요\")\n",
    "    print(\"Exception:\", exception)\n",
    "except IndexError as exception:\n",
    "    print(\"리스트의 범위를 벗어났습니다. 입력값을 다시 확인해주세요\")\n",
    "    print(\"Exception:\", exception)"
   ]
  },
  {
   "cell_type": "code",
   "execution_count": 11,
   "metadata": {},
   "outputs": [
    {
     "name": "stdout",
     "output_type": "stream",
     "text": [
      "정수로 입력해주세요\n",
      "Exception: invalid literal for int() with base 10: 'abc'\n"
     ]
    }
   ],
   "source": [
    "numbers = [10, 20, 30, 40, 50]\n",
    "\n",
    "try:\n",
    "    number_input = int(input(\"찾고싶은 값의 위치를 입력해주세요\"))\n",
    "    print(f'{number_input}번째 요소 : {numbers[number_input]}')\n",
    "except ValueError as exception:\n",
    "    print(\"정수로 입력해주세요\")\n",
    "    print(\"Exception:\", exception)\n",
    "except IndexError as exception:\n",
    "    print(\"리스트의 범위를 벗어났습니다. 입력값을 다시 확인해주세요\")\n",
    "    print(\"Exception:\", exception)\n",
    "    "
   ]
  },
  {
   "cell_type": "code",
   "execution_count": 12,
   "metadata": {},
   "outputs": [
    {
     "name": "stdout",
     "output_type": "stream",
     "text": [
      "리스트의 범위를 벗어났습니다. 입력값을 다시 확인해주세요\n",
      "Exception: list index out of range\n"
     ]
    }
   ],
   "source": [
    "numbers = [10, 20, 30, 40, 50]\n",
    "\n",
    "try:\n",
    "    number_input = int(input(\"찾고싶은 값의 위치를 입력해주세요\"))\n",
    "    print(f'{number_input}번째 요소 : {numbers[number_input]}')\n",
    "except ValueError as exception:\n",
    "    print(\"정수로 입력해주세요\")\n",
    "    print(\"Exception:\", exception)\n",
    "except IndexError as exception:\n",
    "    print(\"리스트의 범위를 벗어났습니다. 입력값을 다시 확인해주세요\")\n",
    "    print(\"Exception:\", exception)"
   ]
  },
  {
   "cell_type": "markdown",
   "metadata": {},
   "source": []
  },
  {
   "cell_type": "code",
   "execution_count": null,
   "metadata": {},
   "outputs": [],
   "source": []
  },
  {
   "cell_type": "code",
   "execution_count": null,
   "metadata": {},
   "outputs": [],
   "source": [
    "  "
   ]
  },
  {
   "cell_type": "code",
   "execution_count": null,
   "metadata": {},
   "outputs": [],
   "source": []
  }
 ],
 "metadata": {
  "kernelspec": {
   "display_name": "Python 3",
   "language": "python",
   "name": "python3"
  },
  "language_info": {
   "codemirror_mode": {
    "name": "ipython",
    "version": 3
   },
   "file_extension": ".py",
   "mimetype": "text/x-python",
   "name": "python",
   "nbconvert_exporter": "python",
   "pygments_lexer": "ipython3",
   "version": "3.11.9"
  }
 },
 "nbformat": 4,
 "nbformat_minor": 2
}
