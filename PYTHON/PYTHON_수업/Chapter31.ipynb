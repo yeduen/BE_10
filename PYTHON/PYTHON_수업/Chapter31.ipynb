{
 "cells": [
  {
   "cell_type": "markdown",
   "metadata": {},
   "source": [
    "## 제너레이터\n",
    "\n",
    "제너레이터는 이터레이터를 생성하는 객체입니다.\n",
    "\n",
    "- 이터레이터 : 순서대로 다음 값을 리턴할 수 있는 객체로 자체적으로 내장하고 있는 next 메소드를 통해 다음 값을 가져올 수 있습니다.\n",
    "\n",
    "제너레이터는 함수 안에 yield 키워드를 사용해 만들 수 있습니다.\n",
    "\n",
    "특이하게 함수 안에 yield라는 키워드가 어떤 동작을 하든 하지 않든 있기만 해도 제너레이터로 인식됩니다.\n",
    "\n",
    "단, 제너레이터 함수가 되면 호출해도 함수 내부의 코드가 작동하지 않습니다.\n",
    "\n",
    "아래 코드로 확인해 보겠습니다."
   ]
  },
  {
   "cell_type": "code",
   "execution_count": null,
   "metadata": {},
   "outputs": [
    {
     "name": "stdout",
     "output_type": "stream",
     "text": [
      "첫번째 출력\n",
      "두번째 출력\n",
      "<generator object test at 0x000001E1C869F4C0>\n"
     ]
    }
   ],
   "source": [
    "def test():\n",
    "    print(\"제너레이터함수 실습 코드\")\n",
    "    yield \"test\" #yield 키워드로 제너레이터 함수로 인식, 그로인해 내부 코드 실행 안됨.\n",
    "\n",
    "print(\"첫번째 출력\")\n",
    "test()\n",
    "\n",
    "print(\"두번째 출력\")\n",
    "test()\n",
    "\n",
    "print(test())\n"
   ]
  },
  {
   "cell_type": "markdown",
   "metadata": {},
   "source": [
    "## 제너레이터의 실행\n",
    "\n",
    "제너레이터는 어떻게 실행할 수 있을까요?\n",
    "\n",
    "제너레이터 객체는 next() 함수를 사용해 함수 내부의 코드를 실행할 수 있습니다.\n",
    "\n",
    "next() 함수를 실행하면 yield 키워드 부분까지만 실행됩니다. 다시 한번 코드를 통해 이 부분을 확인해 보겠습니다."
   ]
  },
  {
   "cell_type": "code",
   "execution_count": null,
   "metadata": {},
   "outputs": [
    {
     "name": "stdout",
     "output_type": "stream",
     "text": [
      "네번째 출력\n",
      "첫번째 출력\n",
      "1\n",
      "다섯번쨰 출력\n",
      "두번째 출력\n",
      "2\n",
      "여섯번째 출력\n",
      "세번째 출력\n"
     ]
    },
    {
     "ename": "StopIteration",
     "evalue": "",
     "output_type": "error",
     "traceback": [
      "\u001b[31m---------------------------------------------------------------------------\u001b[39m",
      "\u001b[31mStopIteration\u001b[39m                             Traceback (most recent call last)",
      "\u001b[36mCell\u001b[39m\u001b[36m \u001b[39m\u001b[32mIn[2]\u001b[39m\u001b[32m, line 17\u001b[39m\n\u001b[32m     15\u001b[39m \u001b[38;5;28mprint\u001b[39m(y)\n\u001b[32m     16\u001b[39m \u001b[38;5;28mprint\u001b[39m(\u001b[33m\"\u001b[39m\u001b[33m여섯번째 출력\u001b[39m\u001b[33m\"\u001b[39m)\n\u001b[32m---> \u001b[39m\u001b[32m17\u001b[39m z = \u001b[38;5;28;43mnext\u001b[39;49m\u001b[43m(\u001b[49m\u001b[43moutput\u001b[49m\u001b[43m)\u001b[49m\n\u001b[32m     18\u001b[39m \u001b[38;5;28mprint\u001b[39m(z)\n",
      "\u001b[31mStopIteration\u001b[39m: "
     ]
    }
   ],
   "source": [
    "def test(): \n",
    "    print(\"첫번째 출력\")\n",
    "    yield 1            #yield가 next함수를 만나면  반환한다.\n",
    "    print(\"두번째 출력\")\n",
    "    yield 2            #또다시 yield를 만나면 그다음 값으로 지정\n",
    "    print(\"세번째 출력\")\n",
    "\n",
    "output = test()\n",
    "print(\"네번째 출력\")\n",
    "\n",
    "x = next(output)\n",
    "print(x)\n",
    "print(\"다섯번쨰 출력\")\n",
    "y = next(output)\n",
    "print(y)\n",
    "print(\"여섯번째 출력\")\n",
    "z = next(output)\n",
    "print(z)\n",
    "\n"
   ]
  },
  {
   "cell_type": "markdown",
   "metadata": {},
   "source": [
    "## 제너레이터의 사용\n",
    "\n",
    "제일 궁금한 점은 제너레이터는 언제 사용하는가입니다.\n",
    "\n",
    "위 사용 방법처럼 조금씩 실행해야 되는 상황에서 자주 사용됩니다.\n",
    "\n",
    "조금씩 실행시키게 되면 함수 전체를 실행하지 않아도 되기 때문에 메모리를 효율적으로 사용할 수 있습니다."
   ]
  },
  {
   "cell_type": "code",
   "execution_count": null,
   "metadata": {},
   "outputs": [],
   "source": []
  },
  {
   "cell_type": "code",
   "execution_count": null,
   "metadata": {},
   "outputs": [],
   "source": []
  },
  {
   "cell_type": "code",
   "execution_count": null,
   "metadata": {},
   "outputs": [],
   "source": []
  }
 ],
 "metadata": {
  "kernelspec": {
   "display_name": "Python 3",
   "language": "python",
   "name": "python3"
  },
  "language_info": {
   "codemirror_mode": {
    "name": "ipython",
    "version": 3
   },
   "file_extension": ".py",
   "mimetype": "text/x-python",
   "name": "python",
   "nbconvert_exporter": "python",
   "pygments_lexer": "ipython3",
   "version": "3.11.9"
  }
 },
 "nbformat": 4,
 "nbformat_minor": 2
}
