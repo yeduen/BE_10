{
 "cells": [
  {
   "cell_type": "markdown",
   "metadata": {},
   "source": [
    "## 기본 매개변수란?\n",
    "\n",
    "Child 클래스 내부에는 아무것도 없는데, Parent 클래스의 상속을 받았으므로\n",
    "\n",
    "함수를 호출할 때 해당 매개변수에 **인수를 전달하지 않으면 기본 값이 매개변수에 사용**됩니다.\n",
    "\n",
    "기본 매개변수를 사용하면 함수 호출시에 모든 매개변수에 값을 전달하지 않아도 됩니다."
   ]
  },
  {
   "cell_type": "code",
   "execution_count": 1,
   "metadata": {},
   "outputs": [
    {
     "name": "stdout",
     "output_type": "stream",
     "text": [
      "일반 매개변수 다음에 기본 매개변수를 배치해야 한다.\n",
      "일반 매개변수 다음에 기본 매개변수를 배치해야 한다.\n"
     ]
    }
   ],
   "source": [
    "def oz(value, n=2):\n",
    "    for i in range(n):\n",
    "        print(value)\n",
    "\n",
    "oz(\"일반 매개변수 다음에 기본 매개변수를 배치해야 한다.\")        "
   ]
  },
  {
   "cell_type": "code",
   "execution_count": 2,
   "metadata": {},
   "outputs": [
    {
     "name": "stdout",
     "output_type": "stream",
     "text": [
      "일반 매개변수 다음에 기본 매개변수를 배치해야 한다.\n",
      "일반 매개변수 다음에 기본 매개변수를 배치해야 한다.\n",
      "일반 매개변수 다음에 기본 매개변수를 배치해야 한다.\n",
      "일반 매개변수 다음에 기본 매개변수를 배치해야 한다.\n",
      "일반 매개변수 다음에 기본 매개변수를 배치해야 한다.\n",
      "일반 매개변수 다음에 기본 매개변수를 배치해야 한다.\n",
      "일반 매개변수 다음에 기본 매개변수를 배치해야 한다.\n",
      "일반 매개변수 다음에 기본 매개변수를 배치해야 한다.\n",
      "일반 매개변수 다음에 기본 매개변수를 배치해야 한다.\n",
      "일반 매개변수 다음에 기본 매개변수를 배치해야 한다.\n"
     ]
    }
   ],
   "source": [
    "def oz(value, n=2):\n",
    "    for i in range(n):\n",
    "        print(value)\n",
    "\n",
    "oz(\"일반 매개변수 다음에 기본 매개변수를 배치해야 한다.\", n=10)        "
   ]
  },
  {
   "cell_type": "code",
   "execution_count": 3,
   "metadata": {},
   "outputs": [
    {
     "ename": "SyntaxError",
     "evalue": "non-default argument follows default argument (1149259163.py, line 1)",
     "output_type": "error",
     "traceback": [
      "  \u001b[36mCell\u001b[39m\u001b[36m \u001b[39m\u001b[32mIn[3]\u001b[39m\u001b[32m, line 1\u001b[39m\n\u001b[31m    \u001b[39m\u001b[31mdef oz(n=2, value):\u001b[39m\n                ^\n\u001b[31mSyntaxError\u001b[39m\u001b[31m:\u001b[39m non-default argument follows default argument\n"
     ]
    }
   ],
   "source": [
    "def oz(n=2, value):\n",
    "    # 함수 oz 정의 시, 기본 매개변수를 일반 매개변수보다 뒤에 위치시켜야 합니다.\n",
    "    for i in range(n):\n",
    "        print(value)\n",
    "\n",
    "oz(\"일반 매개변수 다음에 기본 매개변수를 배치해야 합니다.\")"
   ]
  },
  {
   "cell_type": "code",
   "execution_count": null,
   "metadata": {},
   "outputs": [],
   "source": []
  }
 ],
 "metadata": {
  "kernelspec": {
   "display_name": "Python 3",
   "language": "python",
   "name": "python3"
  },
  "language_info": {
   "codemirror_mode": {
    "name": "ipython",
    "version": 3
   },
   "file_extension": ".py",
   "mimetype": "text/x-python",
   "name": "python",
   "nbconvert_exporter": "python",
   "pygments_lexer": "ipython3",
   "version": "3.11.9"
  }
 },
 "nbformat": 4,
 "nbformat_minor": 2
}
