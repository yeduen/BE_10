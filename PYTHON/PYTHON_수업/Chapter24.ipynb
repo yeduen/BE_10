{
 "cells": [
  {
   "cell_type": "code",
   "execution_count": null,
   "metadata": {},
   "outputs": [],
   "source": []
  },
  {
   "cell_type": "code",
   "execution_count": null,
   "metadata": {},
   "outputs": [
    {
     "ename": "SyntaxError",
     "evalue": "unterminated string literal (detected at line 7) (3370889716.py, line 7)",
     "output_type": "error",
     "traceback": [
      "  \u001b[36mCell\u001b[39m\u001b[36m \u001b[39m\u001b[32mIn[4]\u001b[39m\u001b[32m, line 7\u001b[39m\n\u001b[31m    \u001b[39m\u001b[31moz(n=3, \"기본매개변수 다음에\", \"가변 매개변수를\", \"넣을 수 있을까요?)\u001b[39m\n                                      ^\n\u001b[31mSyntaxError\u001b[39m\u001b[31m:\u001b[39m unterminated string literal (detected at line 7)\n"
     ]
    }
   ],
   "source": [
    "def oz(n=3, *values):\n",
    "    for i in range(n):\n",
    "        for value in values:\n",
    "            print(value)\n",
    "        print()\n",
    "\n",
    "oz(\"기본매개변수 다음에\", \"가변 매개변수를\", \"넣을 수 있을까요?)"
   ]
  },
  {
   "cell_type": "code",
   "execution_count": null,
   "metadata": {},
   "outputs": [
    {
     "ename": "TypeError",
     "evalue": "'str' object cannot be interpreted as an integer",
     "output_type": "error",
     "traceback": [
      "\u001b[31m---------------------------------------------------------------------------\u001b[39m",
      "\u001b[31mTypeError\u001b[39m                                 Traceback (most recent call last)",
      "\u001b[36mCell\u001b[39m\u001b[36m \u001b[39m\u001b[32mIn[9]\u001b[39m\u001b[32m, line 17\u001b[39m\n\u001b[32m     14\u001b[39m         \u001b[38;5;28mprint\u001b[39m()\n\u001b[32m     16\u001b[39m \u001b[38;5;66;03m# 함수 호출\u001b[39;00m\n\u001b[32m---> \u001b[39m\u001b[32m17\u001b[39m \u001b[43moz\u001b[49m\u001b[43m(\u001b[49m\u001b[33;43m\"\u001b[39;49m\u001b[33;43m기본 매개변수 다음에\u001b[39;49m\u001b[33;43m\"\u001b[39;49m\u001b[43m,\u001b[49m\u001b[43m \u001b[49m\u001b[33;43m\"\u001b[39;49m\u001b[33;43m가변 매개변수들\u001b[39;49m\u001b[33;43m\"\u001b[39;49m\u001b[43m,\u001b[49m\u001b[43m \u001b[49m\u001b[33;43m\"\u001b[39;49m\u001b[33;43m넣을 수 있을까요?\u001b[39;49m\u001b[33;43m\"\u001b[39;49m\u001b[43m)\u001b[49m\n",
      "\u001b[36mCell\u001b[39m\u001b[36m \u001b[39m\u001b[32mIn[9]\u001b[39m\u001b[32m, line 9\u001b[39m, in \u001b[36moz\u001b[39m\u001b[34m(n, *values)\u001b[39m\n\u001b[32m      2\u001b[39m \u001b[38;5;250m\u001b[39m\u001b[33;03m\"\"\"\u001b[39;00m\n\u001b[32m      3\u001b[39m \u001b[33;03mParameters:\u001b[39;00m\n\u001b[32m      4\u001b[39m \u001b[33;03m    n (int): 기본 매개변수로, 반복 횟수를 나타냅니다. 기본값은 3입니다.\u001b[39;00m\n\u001b[32m      5\u001b[39m \u001b[33;03m    *values: 가변 매개변수로, 함수에 전달된 모든 위치 인수를 튜플로 묶어서 받습\u001b[39;00m\n\u001b[32m      6\u001b[39m \u001b[33;03m\"\"\"\u001b[39;00m\n\u001b[32m      8\u001b[39m \u001b[38;5;66;03m# n번 반복하는 루프\u001b[39;00m\n\u001b[32m----> \u001b[39m\u001b[32m9\u001b[39m \u001b[38;5;28;01mfor\u001b[39;00m i \u001b[38;5;129;01min\u001b[39;00m \u001b[38;5;28;43mrange\u001b[39;49m\u001b[43m(\u001b[49m\u001b[43mn\u001b[49m\u001b[43m)\u001b[49m:\n\u001b[32m     10\u001b[39m     \u001b[38;5;66;03m# 가변 매개변수로 받은 값들을 하나씩 출력합니다.\u001b[39;00m\n\u001b[32m     11\u001b[39m     \u001b[38;5;28;01mfor\u001b[39;00m value \u001b[38;5;129;01min\u001b[39;00m values:\n\u001b[32m     12\u001b[39m         \u001b[38;5;28mprint\u001b[39m(value)\n",
      "\u001b[31mTypeError\u001b[39m: 'str' object cannot be interpreted as an integer"
     ]
    }
   ],
   "source": [
    "def oz(n=3, *values):\n",
    "    \"\"\"\n",
    "    Parameters:\n",
    "        n (int): 기본 매개변수로, 반복 횟수를 나타냅니다. 기본값은 3입니다.\n",
    "        *values: 가변 매개변수로, 함수에 전달된 모든 위치 인수를 튜플로 묶어서 받습니다\n",
    "    \"\"\"\n",
    "    \n",
    "    # n번 반복하는 루프\n",
    "    for i in range(n):\n",
    "        # 가변 매개변수로 받은 값들을 하나씩 출력합니다.\n",
    "        for value in values:\n",
    "            print(value)\n",
    "        # 값들을 모두 출력한 후에는 빈 줄을 출력하여 각 반복 결과를 구분합니다.\n",
    "        print()\n",
    "\n",
    "# 함수 호출\n",
    "oz(\"기본 매개변수 다음에\", \"가변 매개변수들\", \"넣을 수 있을까요?\")"
   ]
  },
  {
   "cell_type": "code",
   "execution_count": 10,
   "metadata": {},
   "outputs": [
    {
     "name": "stdout",
     "output_type": "stream",
     "text": [
      "기본 매개변수 다음에\n",
      "가변 매개변수들\n",
      "넣을 수 있을까요?\n",
      "10\n",
      "\n",
      "기본 매개변수 다음에\n",
      "가변 매개변수들\n",
      "넣을 수 있을까요?\n",
      "10\n",
      "\n",
      "기본 매개변수 다음에\n",
      "가변 매개변수들\n",
      "넣을 수 있을까요?\n",
      "10\n",
      "\n"
     ]
    }
   ],
   "source": [
    "def oz(*values, n=3):\n",
    "    \"\"\" \n",
    "    Parameters:\n",
    "        *values: 가변 매개변수로, 함수에 전달된 모든 위치 인수를 튜플로 묶어서 받습니다.\n",
    "        n (int): 기본 매개변수로, 반복 횟수를 나타냅니다. 기본값은 3입니다.\n",
    "    \"\"\"\n",
    "    \n",
    "    # n번 반복하는 루프\n",
    "    for i in range(n):\n",
    "        # 가변 매개변수로 받은 값들을 하나씩 출력합니다.\n",
    "        for value in values:\n",
    "            print(value)\n",
    "        # 값들을 모두 출력한 후에는 빈 줄을 출력하여 각 반복 결과를 구분합니다.\n",
    "        print()\n",
    "\n",
    "# 함수 호출\n",
    "oz(\"기본 매개변수 다음에\", \"가변 매개변수들\", \"넣을 수 있을까요?\", 10)"
   ]
  },
  {
   "cell_type": "code",
   "execution_count": 12,
   "metadata": {},
   "outputs": [
    {
     "name": "stdout",
     "output_type": "stream",
     "text": [
      "안\n",
      "녕\n",
      "하\n",
      "세\n",
      "요\n"
     ]
    }
   ],
   "source": [
    "#end = \\n\n",
    "list = [\"안\", \"녕\", \"하\", \"세\", \"요\"]\n",
    "for i in list:\n",
    "\t\tprint(i)"
   ]
  },
  {
   "cell_type": "code",
   "execution_count": 13,
   "metadata": {},
   "outputs": [
    {
     "name": "stdout",
     "output_type": "stream",
     "text": [
      "안녕하세요"
     ]
    }
   ],
   "source": [
    "list = [\"안\", \"녕\", \"하\", \"세\", \"요\"]\n",
    "for i in list:\n",
    "\t\tprint(i, end=\"\")"
   ]
  },
  {
   "cell_type": "code",
   "execution_count": null,
   "metadata": {},
   "outputs": [
    {
     "name": "stdout",
     "output_type": "stream",
     "text": [
      "2000\n",
      "1000\n",
      "250\n"
     ]
    }
   ],
   "source": [
    "def oz(x, y=20, h=10):\n",
    "\tprint(x * y * h)\n",
    "# x식별자에 매개변수 10을 넣은 경우\n",
    "oz(10)\n",
    "# x식별자에 10을넣고 y=10이라는 키워드 매개변수를 이용한 경우\n",
    "oz(10, y=10)\n",
    "# 모든 매개변수를 키워드 매개변수로 넣은 경우\n",
    "oz(x=5, y=10, h=5)\n"
   ]
  },
  {
   "cell_type": "code",
   "execution_count": null,
   "metadata": {},
   "outputs": [],
   "source": []
  },
  {
   "cell_type": "code",
   "execution_count": null,
   "metadata": {},
   "outputs": [],
   "source": []
  },
  {
   "cell_type": "code",
   "execution_count": null,
   "metadata": {},
   "outputs": [],
   "source": []
  },
  {
   "cell_type": "code",
   "execution_count": null,
   "metadata": {},
   "outputs": [],
   "source": []
  }
 ],
 "metadata": {
  "kernelspec": {
   "display_name": "Python 3",
   "language": "python",
   "name": "python3"
  },
  "language_info": {
   "codemirror_mode": {
    "name": "ipython",
    "version": 3
   },
   "file_extension": ".py",
   "mimetype": "text/x-python",
   "name": "python",
   "nbconvert_exporter": "python",
   "pygments_lexer": "ipython3",
   "version": "3.11.9"
  }
 },
 "nbformat": 4,
 "nbformat_minor": 2
}
