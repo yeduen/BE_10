{
 "cells": [
  {
   "cell_type": "markdown",
   "metadata": {},
   "source": []
  },
  {
   "cell_type": "code",
   "execution_count": 1,
   "metadata": {},
   "outputs": [
    {
     "ename": "SyntaxError",
     "evalue": "unterminated string literal (detected at line 4) (2761521685.py, line 4)",
     "output_type": "error",
     "traceback": [
      "  \u001b[36mCell\u001b[39m\u001b[36m \u001b[39m\u001b[32mIn[1]\u001b[39m\u001b[32m, line 4\u001b[39m\n\u001b[31m    \u001b[39m\u001b[31moz('오즈코딩스쿨)\u001b[39m\n       ^\n\u001b[31mSyntaxError\u001b[39m\u001b[31m:\u001b[39m unterminated string literal (detected at line 4)\n"
     ]
    }
   ],
   "source": [
    "def oz(message, n):\n",
    "\t\tfor i i n range(n):\n",
    "\t\t\t\tprint(message)\n",
    "oz('오즈코딩스쿨)"
   ]
  },
  {
   "cell_type": "code",
   "execution_count": 3,
   "metadata": {},
   "outputs": [
    {
     "ename": "SyntaxError",
     "evalue": "unterminated string literal (detected at line 4) (3790222822.py, line 4)",
     "output_type": "error",
     "traceback": [
      "  \u001b[36mCell\u001b[39m\u001b[36m \u001b[39m\u001b[32mIn[3]\u001b[39m\u001b[32m, line 4\u001b[39m\n\u001b[31m    \u001b[39m\u001b[31moz('오즈코딩스쿨,5, 3)\u001b[39m\n       ^\n\u001b[31mSyntaxError\u001b[39m\u001b[31m:\u001b[39m unterminated string literal (detected at line 4)\n"
     ]
    }
   ],
   "source": [
    "def oz(message, n):\n",
    "\t\tfor i i n range(n):\n",
    "\t\t\t\tprint(message)\n",
    "oz('오즈코딩스쿨,5, 3)"
   ]
  },
  {
   "cell_type": "code",
   "execution_count": 4,
   "metadata": {},
   "outputs": [
    {
     "name": "stdout",
     "output_type": "stream",
     "text": [
      "프린트는 아무리 넣어도된다 2 3 이것도되지\n"
     ]
    }
   ],
   "source": [
    "print('프린트는 아무리 넣어도된다', 2, 3, '이것도되지')"
   ]
  },
  {
   "cell_type": "markdown",
   "metadata": {},
   "source": [
    "## 가변 매개변수란?\n",
    "\n",
    "가변 매개변수는 **함수가 임의의 개수의 인자를 받을 수 있도록 하는 매개변수**입니다.\n",
    "\n",
    "함수 정의 시 **매개변수의 개수를 고정하지 않고, 호출할 때마다 다양한 개수의 인자를 전달**할 수 있도록 합니다.\n",
    "\n",
    "print 함수에 매개변수를 많이 전달하기 위해서는 `,` 를 통해 값을 추가적으로 전달해준다."
   ]
  },
  {
   "cell_type": "code",
   "execution_count": 7,
   "metadata": {},
   "outputs": [
    {
     "name": "stdout",
     "output_type": "stream",
     "text": [
      "이렇게\n",
      "저렇게\n",
      "가변매개변수는 요렇게\n",
      "신기하죠\n",
      "\n",
      "이렇게\n",
      "저렇게\n",
      "가변매개변수는 요렇게\n",
      "신기하죠\n",
      "\n",
      "이렇게\n",
      "저렇게\n",
      "가변매개변수는 요렇게\n",
      "신기하죠\n",
      "\n"
     ]
    }
   ],
   "source": [
    "def oz(n, *values):\n",
    "    for i in range(n):\n",
    "        for value in values:\n",
    "            print(value)\n",
    "        print()\n",
    "\n",
    "oz(3, \"이렇게\", \"저렇게\", \"가변매개변수는 요렇게\", \"신기하죠\")"
   ]
  },
  {
   "cell_type": "markdown",
   "metadata": {},
   "source": [
    "## 변 매개변수 사용시의 주의점\n",
    "\n",
    "1. 가변 매개변수 **뒤에는 일반 매개변수가 올 수 없습니다.**\n",
    "    \n",
    "    → 어디까지가 가변 매개변수이고, 어디가 일반 매개변수인지 알 수 없기 때문입니다."
   ]
  },
  {
   "cell_type": "code",
   "execution_count": 8,
   "metadata": {},
   "outputs": [
    {
     "ename": "TypeError",
     "evalue": "oz() missing 1 required keyword-only argument: 'n'",
     "output_type": "error",
     "traceback": [
      "\u001b[31m---------------------------------------------------------------------------\u001b[39m",
      "\u001b[31mTypeError\u001b[39m                                 Traceback (most recent call last)",
      "\u001b[36mCell\u001b[39m\u001b[36m \u001b[39m\u001b[32mIn[8]\u001b[39m\u001b[32m, line 7\u001b[39m\n\u001b[32m      4\u001b[39m             \u001b[38;5;28mprint\u001b[39m(value)\n\u001b[32m      5\u001b[39m         \u001b[38;5;28mprint\u001b[39m()\n\u001b[32m----> \u001b[39m\u001b[32m7\u001b[39m \u001b[43moz\u001b[49m\u001b[43m(\u001b[49m\u001b[43m \u001b[49m\u001b[33;43m\"\u001b[39;49m\u001b[33;43m이렇게\u001b[39;49m\u001b[33;43m\"\u001b[39;49m\u001b[43m,\u001b[49m\u001b[43m \u001b[49m\u001b[33;43m\"\u001b[39;49m\u001b[33;43m저렇게\u001b[39;49m\u001b[33;43m\"\u001b[39;49m\u001b[43m,\u001b[49m\u001b[43m \u001b[49m\u001b[33;43m\"\u001b[39;49m\u001b[33;43m가변매개변수는 요렇게\u001b[39;49m\u001b[33;43m\"\u001b[39;49m\u001b[43m,\u001b[49m\u001b[43m \u001b[49m\u001b[33;43m\"\u001b[39;49m\u001b[33;43m신기하죠\u001b[39;49m\u001b[33;43m\"\u001b[39;49m\u001b[43m,\u001b[49m\u001b[43m \u001b[49m\u001b[32;43m3\u001b[39;49m\u001b[43m)\u001b[49m\n",
      "\u001b[31mTypeError\u001b[39m: oz() missing 1 required keyword-only argument: 'n'"
     ]
    }
   ],
   "source": [
    "def oz(*values, n):\n",
    "    for i in range(n):\n",
    "        for value in values:\n",
    "            print(value)\n",
    "        print()\n",
    "\n",
    "oz( \"이렇게\", \"저렇게\", \"가변매개변수는 요렇게\", \"신기하죠\", 3)"
   ]
  },
  {
   "cell_type": "code",
   "execution_count": null,
   "metadata": {},
   "outputs": [],
   "source": []
  },
  {
   "cell_type": "code",
   "execution_count": null,
   "metadata": {},
   "outputs": [],
   "source": []
  }
 ],
 "metadata": {
  "kernelspec": {
   "display_name": "Python 3",
   "language": "python",
   "name": "python3"
  },
  "language_info": {
   "codemirror_mode": {
    "name": "ipython",
    "version": 3
   },
   "file_extension": ".py",
   "mimetype": "text/x-python",
   "name": "python",
   "nbconvert_exporter": "python",
   "pygments_lexer": "ipython3",
   "version": "3.11.9"
  }
 },
 "nbformat": 4,
 "nbformat_minor": 2
}
