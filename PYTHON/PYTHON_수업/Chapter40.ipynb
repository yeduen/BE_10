{
 "cells": [
  {
   "cell_type": "markdown",
   "metadata": {},
   "source": [
    "## 모듈 만들기\n",
    "\n",
    "모듈은 코드 재사용성을 높이고 코드를 체계적으로 관리하기 위해 사용하는 **함수의 집합**입니다. \n",
    "\n",
    "파이썬 모듈은 여러 변수, 함수, 클래스 등을 포함할 수 있으며, 다른 파이썬 프로그램에서 임포트(import)하여 사용할 수 있습니다. \n",
    "\n",
    "모듈을 사용하면 코드의 가독성이 좋아지고 유지 보수가 쉬워집니다."
   ]
  }
 ],
 "metadata": {
  "language_info": {
   "name": "python"
  }
 },
 "nbformat": 4,
 "nbformat_minor": 2
}
