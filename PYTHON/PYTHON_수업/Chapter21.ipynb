{
 "cells": [
  {
   "cell_type": "markdown",
   "metadata": {},
   "source": [
    "함수 : 목적이 있는 코드의 집합\n",
    "\n",
    "함수의 구조\n",
    "  \n",
    "  def 함수이름()\n",
    "    코드\n",
    "\n",
    "(def는 defin으로 함수를 정의하겠다는 의미로 사용됨)"
   ]
  },
  {
   "cell_type": "code",
   "execution_count": 2,
   "metadata": {},
   "outputs": [
    {
     "name": "stdout",
     "output_type": "stream",
     "text": [
      "oz코딩스쿨\n",
      "oz코딩스쿨\n",
      "oz코딩스쿨\n",
      "oz코딩스쿨\n",
      "oz코딩스쿨\n"
     ]
    }
   ],
   "source": [
    "def oz():\n",
    "    for i in range(5):\n",
    "        print('oz코딩스쿨')\n",
    "\n",
    "oz()"
   ]
  },
  {
   "cell_type": "markdown",
   "metadata": {},
   "source": [
    "함수 선언부\n",
    "\n",
    "def oz():\n",
    "    for i in range(5):\n",
    "        print('oz코딩스쿨')"
   ]
  },
  {
   "cell_type": "markdown",
   "metadata": {},
   "source": [
    "함수 실행부\n",
    "\n",
    "oz()"
   ]
  },
  {
   "cell_type": "markdown",
   "metadata": {},
   "source": [
    "**함수의 괄호안에 들어오는 값을 매개변수(parameter)**라고 합니다.\n",
    "\n",
    "이렇게 입력되는 매개변수들을 구분을 위해서 식별자를 만들어줍니다."
   ]
  },
  {
   "cell_type": "code",
   "execution_count": null,
   "metadata": {},
   "outputs": [
    {
     "name": "stdout",
     "output_type": "stream",
     "text": [
      "oz코딩스쿨\n",
      "oz코딩스쿨\n",
      "oz코딩스쿨\n",
      "oz코딩스쿨\n",
      "oz코딩스쿨\n"
     ]
    }
   ],
   "source": [
    "def oz(message, n):\n",
    "    # message는 함수 oz의 첫 번째 매개변수입니다. 이 매개변수는 출력할 메시지를 나타냅니다.\n",
    "    # n은 함수 oz의 두 번째 매개변수입니다. 이 매개변수는 메시지를 반복 출력할 횟수를 나타냅니다.\n",
    "    for i in range(n): # message 매개변수는 출력할 메시지를 식별합니다.\n",
    "        print(message) # n 매개변수는 반복 횟수를 식별합니다.\n",
    "\n",
    "oz('oz코딩스쿨', 5) \n",
    "# 'oz코딩스쿨' 메시지를 5번 출력합니다."
   ]
  },
  {
   "cell_type": "code",
   "execution_count": null,
   "metadata": {},
   "outputs": [],
   "source": [
    "def oz(message, n):\n",
    "\t\tfor i in range(n):\n",
    "\t\t\t\tprint(message)\n",
    "\t\t\t\t\n",
    "oz('oz코딩스쿨', 5)\n",
    "\n",
    "# def oz'오크코딩스쿨', 5):\n",
    "# \t\tfor i in range(5):\n",
    "# \t\t\t\tprint(오즈코딩스쿨)\n",
    "\t\t\t\t\n",
    "# oz('oz코딩스쿨', 5)"
   ]
  }
 ],
 "metadata": {
  "kernelspec": {
   "display_name": "Python 3",
   "language": "python",
   "name": "python3"
  },
  "language_info": {
   "codemirror_mode": {
    "name": "ipython",
    "version": 3
   },
   "file_extension": ".py",
   "mimetype": "text/x-python",
   "name": "python",
   "nbconvert_exporter": "python",
   "pygments_lexer": "ipython3",
   "version": "3.11.9"
  }
 },
 "nbformat": 4,
 "nbformat_minor": 2
}
