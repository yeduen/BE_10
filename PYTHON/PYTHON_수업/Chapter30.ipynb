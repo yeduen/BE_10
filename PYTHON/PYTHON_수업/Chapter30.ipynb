{
 "cells": [
  {
   "cell_type": "markdown",
   "metadata": {},
   "source": [
    "## 람다\n",
    "\n",
    "앞서 우리는 함수에 매개변수를 전달받아 실행하는 코드를 작성했습니다.\n",
    "\n",
    "기존 방식 외에도 함수는 더 놀라운 것들을 매개변수로 받아올 수 있습니다. 바로, 함수 자체를 매개변수로 받을 수 있다는 사실입니다.\n",
    "\n",
    "이렇게 함수 자체를 매개변수로 사용하기 쉽게 돕는 기능이 람다입니다.\n",
    "\n",
    "우선, 함수의 매개변수로 전달하는 방법에 대한 코드를 보겠습니다. (함수의 매개변수로 사용되는 함수를 **콜백 함수**라고 합니다.)"
   ]
  },
  {
   "cell_type": "code",
   "execution_count": 4,
   "metadata": {},
   "outputs": [
    {
     "name": "stdout",
     "output_type": "stream",
     "text": [
      "파이썬 이건 또 뭔 개념이냐?\n",
      "파이썬 이건 또 뭔 개념이냐?\n",
      "파이썬 이건 또 뭔 개념이냐?\n",
      "파이썬 이건 또 뭔 개념이냐?\n",
      "파이썬 이건 또 뭔 개념이냐?\n"
     ]
    }
   ],
   "source": [
    "def oz_call(function):\n",
    "    for i in range(5):\n",
    "        function()\n",
    "\n",
    "def talk():\n",
    "    print(\"파이썬 이건 또 뭔 개념이냐?\")\n",
    "\n",
    "oz_call(talk)"
   ]
  },
  {
   "cell_type": "markdown",
   "metadata": {},
   "source": [
    "## 함수를 매개변수로 사용하는 내장함수\n",
    "\n",
    "함수를 매개변수로 사용하는 대표적인 내장 함수로는 map() 함수와 filter() 함수가 있습니다.\n",
    "\n",
    "- map(): 리스트의 요소를 함수에 넣고 반환된 값으로 새로운 리스트를 만듭니다.\n",
    "- filter(): 리스트의 요소를 함수에 넣고 반환된 값이 True인 값만으로 새로운 리스트를 만듭니다."
   ]
  },
  {
   "cell_type": "code",
   "execution_count": 5,
   "metadata": {},
   "outputs": [
    {
     "name": "stdout",
     "output_type": "stream",
     "text": [
      "map 결과: <map object at 0x000001539A004280>\n",
      "map 결과의 list 형변환: [1, 4, 9, 16, 25, 36, 49, 64, 81, 100]\n"
     ]
    }
   ],
   "source": [
    "#자기 자신을 곱합 결과를 새로운 list를 만들어주는 map() 함수 코드\n",
    "def square(i):\n",
    "    return i*i\n",
    "numbers_list = [1,2,3,4,5,6,7,8,9,10]\n",
    "\n",
    "result = map(square, numbers_list)\n",
    "\n",
    "print(\"map 결과:\", result)\n",
    "print(\"map 결과의 list 형변환:\", list(result))\n"
   ]
  },
  {
   "cell_type": "code",
   "execution_count": 7,
   "metadata": {},
   "outputs": [
    {
     "name": "stdout",
     "output_type": "stream",
     "text": [
      "map 결과: <filter object at 0x000001539A005030>\n",
      "map 결과의 list 형변환: [1, 2, 3, 4]\n"
     ]
    }
   ],
   "source": [
    "# 조건에 맞는 값만을 이용해 새로운 list를 만들어주는 filter()함수 코드\n",
    "\n",
    "def under(i):\n",
    "    return i < 5\n",
    "\n",
    "numbers_list = [1,2,3,4,5,6,7,8,9,10]\n",
    "\n",
    "result = filter(under, numbers_list)\n",
    "\n",
    "print(\"map 결과:\", result)\n",
    "print(\"map 결과의 list 형변환:\", list(result))\n"
   ]
  },
  {
   "cell_type": "markdown",
   "metadata": {},
   "source": [
    "<map object at 0x10992afe0>, <filter object at 0x10992be50>은 제너레이터라고 부릅니다.\n",
    "\n",
    "지금까지 콜백 함수를 효율적으로 사용할 수 있도록 도와주는 map(), filter에 대해 알아보았습니다. \n",
    "\n",
    "지금부터 람다에 대해 알아보겠습니다.\n",
    "\n",
    "lambda : 간단한 함수를 쉽게 선언하는 방법으로 이름이 없는 익명함수를 만들 수 있습니다."
   ]
  },
  {
   "cell_type": "code",
   "execution_count": 8,
   "metadata": {},
   "outputs": [
    {
     "name": "stdout",
     "output_type": "stream",
     "text": [
      "map 결과: <map object at 0x000001539A003D00>\n",
      "map 결과의 list 형변환: [1, 4, 9, 16, 25, 36, 49, 64, 81, 100]\n"
     ]
    }
   ],
   "source": [
    "square = lambda i : i * i\n",
    "\n",
    "numbers_list = [1,2,3,4,5,6,7,8,9,10]\n",
    "\n",
    "result = map(square, numbers_list)\n",
    "\n",
    "print(\"map 결과:\", result)\n",
    "print(\"map 결과의 list 형변환:\", list(result))"
   ]
  },
  {
   "cell_type": "code",
   "execution_count": 9,
   "metadata": {},
   "outputs": [
    {
     "name": "stdout",
     "output_type": "stream",
     "text": [
      "map 결과: <filter object at 0x000001539A004C70>\n",
      "map 결과의 list 형변환: [1, 2, 3, 4]\n"
     ]
    }
   ],
   "source": [
    "under = lambda i : i < 5\n",
    "\n",
    "numbers_list = [1,2,3,4,5,6,7,8,9,10]\n",
    "\n",
    "result = filter(under, numbers_list)\n",
    "\n",
    "print(\"map 결과:\", result)\n",
    "print(\"map 결과의 list 형변환:\", list(result))\n"
   ]
  },
  {
   "cell_type": "code",
   "execution_count": 10,
   "metadata": {},
   "outputs": [
    {
     "name": "stdout",
     "output_type": "stream",
     "text": [
      "map 결과 : <map object at 0x0000015399BD68F0>\n",
      "map 결과의 list 형변환: [1, 4, 9, 16, 25, 36, 49, 64, 81, 100]\n"
     ]
    }
   ],
   "source": [
    "numbers_list = [1,2,3,4,5,6,7,8,9,10]\n",
    "\n",
    "result = map(lambda i : i*i, numbers_list)\n",
    "print(\"map 결과 :\", result)\n",
    "print(\"map 결과의 list 형변환:\", list(result))"
   ]
  },
  {
   "cell_type": "code",
   "execution_count": 11,
   "metadata": {},
   "outputs": [
    {
     "name": "stdout",
     "output_type": "stream",
     "text": [
      "map 결과: <filter object at 0x0000015399DFD2A0>\n",
      "map 결과의 list 형변환: [1, 2, 3, 4]\n"
     ]
    }
   ],
   "source": [
    "numbers_list = [1,2,3,4,5,6,7,8,9,10]\n",
    "\n",
    "result = filter(lambda i : i < 5, numbers_list)\n",
    "\n",
    "print(\"map 결과:\", result)\n",
    "print(\"map 결과의 list 형변환:\", list(result))"
   ]
  },
  {
   "cell_type": "code",
   "execution_count": null,
   "metadata": {},
   "outputs": [],
   "source": []
  },
  {
   "cell_type": "code",
   "execution_count": null,
   "metadata": {},
   "outputs": [],
   "source": []
  },
  {
   "cell_type": "code",
   "execution_count": null,
   "metadata": {},
   "outputs": [],
   "source": []
  },
  {
   "cell_type": "code",
   "execution_count": null,
   "metadata": {},
   "outputs": [],
   "source": []
  },
  {
   "cell_type": "code",
   "execution_count": null,
   "metadata": {},
   "outputs": [],
   "source": []
  },
  {
   "cell_type": "code",
   "execution_count": null,
   "metadata": {},
   "outputs": [],
   "source": []
  }
 ],
 "metadata": {
  "kernelspec": {
   "display_name": "Python 3",
   "language": "python",
   "name": "python3"
  },
  "language_info": {
   "codemirror_mode": {
    "name": "ipython",
    "version": 3
   },
   "file_extension": ".py",
   "mimetype": "text/x-python",
   "name": "python",
   "nbconvert_exporter": "python",
   "pygments_lexer": "ipython3",
   "version": "3.11.9"
  }
 },
 "nbformat": 4,
 "nbformat_minor": 2
}
