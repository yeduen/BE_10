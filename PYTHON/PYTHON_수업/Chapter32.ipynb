{
 "cells": [
  {
   "cell_type": "markdown",
   "metadata": {},
   "source": [
    "## 파이썬의 동적 프로그래밍\n",
    "\n",
    "동적 프로그래밍 언어인 파이썬에는 인터프리터(interpreter)가 코드를 실행하면서 타입(type)을 추론합니다.\n",
    "\n",
    "그리고 파이썬은 변수의 타입(type)이 고정되어 있지 않기 때문에 개발자가 원하면 언제든지 변경할 수 있습니다."
   ]
  },
  {
   "cell_type": "code",
   "execution_count": 2,
   "metadata": {},
   "outputs": [
    {
     "name": "stdout",
     "output_type": "stream",
     "text": [
      "<class 'int'>\n",
      "<class 'str'>\n"
     ]
    }
   ],
   "source": [
    "num = 10\n",
    "print(type(num))\n",
    "\n",
    "num = \"10\"\n",
    "print(type(num))"
   ]
  },
  {
   "cell_type": "code",
   "execution_count": 3,
   "metadata": {},
   "outputs": [
    {
     "data": {
      "text/plain": [
       "1000"
      ]
     },
     "execution_count": 3,
     "metadata": {},
     "output_type": "execute_result"
    }
   ],
   "source": [
    "#직육면체의 부피를 구하는 함수\n",
    "def oz(x,y,z):\n",
    "    #type:(int, int, int) -> int\n",
    "    return x*y*z\n",
    "\n",
    "oz(10,10,10)"
   ]
  },
  {
   "cell_type": "code",
   "execution_count": 4,
   "metadata": {},
   "outputs": [
    {
     "data": {
      "text/plain": [
       "1000"
      ]
     },
     "execution_count": 4,
     "metadata": {},
     "output_type": "execute_result"
    }
   ],
   "source": [
    "#직육면체의 부피를 구하는 함수\n",
    "def oz(x: int,y: int,z: int) -> int:\n",
    "    return x*y*z\n",
    "\n",
    "oz(10,10,10)"
   ]
  },
  {
   "cell_type": "code",
   "execution_count": 5,
   "metadata": {},
   "outputs": [
    {
     "name": "stdout",
     "output_type": "stream",
     "text": [
      "hunt\n"
     ]
    }
   ],
   "source": [
    "# 3.9버전과 3.9미만 버전의 타입 어노테이션 표현 방식이 차이가 있습니다.\n",
    "# 현재 코드는 3.9이상 버전의 방식으로 작성되었습니다.\n",
    "# 변수 타입 어노테이션 사용법\n",
    "\n",
    "my_dog : str = \"hunt\"\n",
    "my_dog_age : int = 7\n",
    "\n",
    "dogs : list[str] = [\"닥스훈트\", \"시바견\", \"웰시코기\" \"똥개\"]\n",
    "\n",
    "dogs : dict[str, int] = {\n",
    "    \"닥스훈트\" : 7,\n",
    "    \"시바견\" : 5,\n",
    "    \"웰시코기\" : 6,\n",
    "    \"똥개\" : 3,\n",
    "}\n",
    "\n",
    "print(my_dog)"
   ]
  },
  {
   "cell_type": "markdown",
   "metadata": {},
   "source": [
    "## 함수 타입 어노테이션\n",
    "\n",
    "함수에 타입 힌팅을 적용할 때는 인자 타입과 반환 타입 두 곳에 추가할 수 있습니다.\n",
    "\n",
    "인자에 타입 어노테이션을 추가할 때는 변수와 동일한 문법을 사용하며, 반환값에 대한 타입을 추가할 때는 화살표를 사용합니다."
   ]
  },
  {
   "cell_type": "code",
   "execution_count": 6,
   "metadata": {},
   "outputs": [],
   "source": [
    "def hunt(name: str) -> str:\n",
    "    return name[0]\n",
    "\n",
    "def hunt_info(name: str, age: int = 7) -> str:\n",
    "    return name + str(age)\n",
    "\n",
    "def hunt_happy_time(name: str) ->None:\n",
    "    print(\"간식줄께\" + name)\n",
    "\n",
    "def hunt_bow(message: str, times: int =10) -> list[str]:\n",
    "    return[message]*times"
   ]
  },
  {
   "cell_type": "code",
   "execution_count": null,
   "metadata": {},
   "outputs": [],
   "source": []
  },
  {
   "cell_type": "code",
   "execution_count": null,
   "metadata": {},
   "outputs": [],
   "source": []
  },
  {
   "cell_type": "code",
   "execution_count": null,
   "metadata": {},
   "outputs": [],
   "source": []
  }
 ],
 "metadata": {
  "kernelspec": {
   "display_name": "Python 3",
   "language": "python",
   "name": "python3"
  },
  "language_info": {
   "codemirror_mode": {
    "name": "ipython",
    "version": 3
   },
   "file_extension": ".py",
   "mimetype": "text/x-python",
   "name": "python",
   "nbconvert_exporter": "python",
   "pygments_lexer": "ipython3",
   "version": "3.11.9"
  }
 },
 "nbformat": 4,
 "nbformat_minor": 2
}
