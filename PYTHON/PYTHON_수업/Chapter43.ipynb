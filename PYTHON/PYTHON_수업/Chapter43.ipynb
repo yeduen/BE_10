{
 "cells": [
  {
   "cell_type": "code",
   "execution_count": null,
   "metadata": {},
   "outputs": [],
   "source": [
    "class CreateOzStudent:\n",
    "    \tpass\n",
    "\t\n",
    "student = CreateOzStudent()\n",
    "\n",
    "oz_students = [\n",
    "\tCreateOzStudent(\"백현우\", 4, 3, 3, 2),\n",
    "\tCreateOzStudent(\"홍해인\", 4, 5, 2, 4),\n",
    "\tCreateOzStudent(\"윤은성\", 3, 4, 4, 1),\n",
    "\tCreateOzStudent(\"홍수철\", 2, 3, 1, 5)\n",
    "]"
   ]
  },
  {
   "cell_type": "code",
   "execution_count": 4,
   "metadata": {},
   "outputs": [
    {
     "data": {
      "text/plain": [
       "['Chapter21.ipynb',\n",
       " 'Chapter22.ipynb',\n",
       " 'Chapter23.ipynb',\n",
       " 'Chapter24.ipynb',\n",
       " 'Chapter25.ipynb',\n",
       " 'Chapter26.ipynb',\n",
       " 'Chapter27.ipynb',\n",
       " 'Chapter28.ipynb',\n",
       " 'Chapter29.ipynb',\n",
       " 'Chapter30.ipynb',\n",
       " 'Chapter31.ipynb',\n",
       " 'Chapter32.ipynb',\n",
       " 'Chapter33.ipynb',\n",
       " 'Chapter34.ipynb',\n",
       " 'Chapter35.ipynb',\n",
       " 'Chapter36.ipynb',\n",
       " 'Chapter37.ipynb',\n",
       " 'Chapter38.ipynb',\n",
       " 'Chapter39.ipynb',\n",
       " 'Chapter40.ipynb',\n",
       " 'Chapter41.ipynb',\n",
       " 'Chapter42.ipynb',\n",
       " 'Chapter43.ipynb',\n",
       " 'oz.py',\n",
       " 'oz_module.py',\n",
       " '__pycache__']"
      ]
     },
     "execution_count": 4,
     "metadata": {},
     "output_type": "execute_result"
    }
   ],
   "source": [
    "import os\n",
    "os.listdir()"
   ]
  },
  {
   "cell_type": "code",
   "execution_count": 8,
   "metadata": {},
   "outputs": [
    {
     "name": "stdout",
     "output_type": "stream",
     "text": [
      "('백현우',)\n",
      "(4,)\n",
      "(3,)\n",
      "(3,)\n",
      "2\n"
     ]
    }
   ],
   "source": [
    "class CreateOzStudents:\n",
    "    def __init__(self, name, python, datebase, django, AWS):\n",
    "        self.name = name,\n",
    "        self.python = python,\n",
    "        self.datebase = datebase,\n",
    "        self.Django = django,\n",
    "        self.AWS = AWS\n",
    "\n",
    "oz_students = [\n",
    "\tCreateOzStudents(\"백현우\", 4, 3, 3, 2),\n",
    "\tCreateOzStudents(\"홍해인\", 4, 5, 2, 4),\n",
    "\tCreateOzStudents(\"윤은성\", 3, 4, 4, 1),\n",
    "\tCreateOzStudents(\"홍수철\", 2, 3, 1, 5)\n",
    "]\n",
    "\n",
    "print(oz_students[0].name)\n",
    "print(oz_students[0].python)\n",
    "print(oz_students[0].datebase)\n",
    "print(oz_students[0].Django)\n",
    "print(oz_students[0].AWS)\n"
   ]
  },
  {
   "cell_type": "code",
   "execution_count": 10,
   "metadata": {},
   "outputs": [
    {
     "name": "stdout",
     "output_type": "stream",
     "text": [
      "이름\t총점\t평균\n"
     ]
    },
    {
     "ename": "AttributeError",
     "evalue": "'CreateOzStudents' object has no attribute 'database'",
     "output_type": "error",
     "traceback": [
      "\u001b[31m---------------------------------------------------------------------------\u001b[39m",
      "\u001b[31mAttributeError\u001b[39m                            Traceback (most recent call last)",
      "\u001b[36mCell\u001b[39m\u001b[36m \u001b[39m\u001b[32mIn[10]\u001b[39m\u001b[32m, line 27\u001b[39m\n\u001b[32m     25\u001b[39m \u001b[38;5;28mprint\u001b[39m(\u001b[33m\"\u001b[39m\u001b[33m이름\u001b[39m\u001b[33m\"\u001b[39m, \u001b[33m\"\u001b[39m\u001b[33m총점\u001b[39m\u001b[33m\"\u001b[39m, \u001b[33m\"\u001b[39m\u001b[33m평균\u001b[39m\u001b[33m\"\u001b[39m, sep=\u001b[33m\"\u001b[39m\u001b[38;5;130;01m\\t\u001b[39;00m\u001b[33m\"\u001b[39m)\n\u001b[32m     26\u001b[39m \u001b[38;5;28;01mfor\u001b[39;00m student \u001b[38;5;129;01min\u001b[39;00m oz_students:\n\u001b[32m---> \u001b[39m\u001b[32m27\u001b[39m     \u001b[38;5;28mprint\u001b[39m(\u001b[43mstudent\u001b[49m\u001b[43m.\u001b[49m\u001b[43mto_string\u001b[49m\u001b[43m(\u001b[49m\u001b[43m)\u001b[49m)\n",
      "\u001b[36mCell\u001b[39m\u001b[36m \u001b[39m\u001b[32mIn[10]\u001b[39m\u001b[32m, line 16\u001b[39m, in \u001b[36mCreateOzStudents.to_string\u001b[39m\u001b[34m(self)\u001b[39m\n\u001b[32m     15\u001b[39m \u001b[38;5;28;01mdef\u001b[39;00m\u001b[38;5;250m \u001b[39m\u001b[34mto_string\u001b[39m(\u001b[38;5;28mself\u001b[39m):\n\u001b[32m---> \u001b[39m\u001b[32m16\u001b[39m     \u001b[38;5;28;01mreturn\u001b[39;00m \u001b[33mf\u001b[39m\u001b[33m'\u001b[39m\u001b[38;5;132;01m{\u001b[39;00m\u001b[38;5;28mself\u001b[39m.name\u001b[38;5;132;01m}\u001b[39;00m\u001b[38;5;130;01m\\t\u001b[39;00m\u001b[38;5;132;01m{\u001b[39;00m\u001b[38;5;28;43mself\u001b[39;49m\u001b[43m.\u001b[49m\u001b[43mget_sum\u001b[49m\u001b[43m(\u001b[49m\u001b[43m)\u001b[49m\u001b[38;5;132;01m}\u001b[39;00m\u001b[38;5;130;01m\\t\u001b[39;00m\u001b[38;5;132;01m{\u001b[39;00m\u001b[38;5;28mself\u001b[39m.get_average()\u001b[38;5;132;01m}\u001b[39;00m\u001b[33m'\u001b[39m\n",
      "\u001b[36mCell\u001b[39m\u001b[36m \u001b[39m\u001b[32mIn[10]\u001b[39m\u001b[32m, line 10\u001b[39m, in \u001b[36mCreateOzStudents.get_sum\u001b[39m\u001b[34m(self)\u001b[39m\n\u001b[32m      9\u001b[39m \u001b[38;5;28;01mdef\u001b[39;00m\u001b[38;5;250m \u001b[39m\u001b[34mget_sum\u001b[39m(\u001b[38;5;28mself\u001b[39m):\n\u001b[32m---> \u001b[39m\u001b[32m10\u001b[39m     \u001b[38;5;28;01mreturn\u001b[39;00m \u001b[38;5;28mself\u001b[39m.python +\u001b[38;5;28;43mself\u001b[39;49m\u001b[43m.\u001b[49m\u001b[43mdatabase\u001b[49m+ \u001b[38;5;28mself\u001b[39m.Django + \u001b[38;5;28mself\u001b[39m.AWS\n",
      "\u001b[31mAttributeError\u001b[39m: 'CreateOzStudents' object has no attribute 'database'"
     ]
    }
   ],
   "source": [
    "class CreateOzStudents:\n",
    "    def __init__(self, name, python, database, django, AWS):\n",
    "        self.name = name,\n",
    "        self.python = python,\n",
    "        self.datebase = database,\n",
    "        self.Django = django,\n",
    "        self.AWS = AWS\n",
    "\n",
    "    def get_sum(self):\n",
    "        return self.python +self.database+ self.Django + self.AWS\n",
    "    \n",
    "    def get_average(self):\n",
    "        return self.get_sum() / 4\n",
    "    \n",
    "    def to_string(self):\n",
    "        return f'{self.name}\\t{self.get_sum()}\\t{self.get_average()}'\n",
    "    \n",
    "oz_students = [\n",
    "\tCreateOzStudents(\"백현우\", 4, 3, 3, 2),\n",
    "\tCreateOzStudents(\"홍해인\", 4, 5, 2, 4),\n",
    "\tCreateOzStudents(\"윤은성\", 3, 4, 4, 1),\n",
    "\tCreateOzStudents(\"홍수철\", 2, 3, 1, 5)\n",
    "]\n",
    "\n",
    "print(\"이름\", \"총점\", \"평균\", sep=\"\\t\")\n",
    "for student in oz_students:\n",
    "    print(student.to_string())"
   ]
  },
  {
   "cell_type": "code",
   "execution_count": 12,
   "metadata": {},
   "outputs": [
    {
     "name": "stdout",
     "output_type": "stream",
     "text": [
      "이름\t총점\t평균\n",
      "백현우\t12\t3.0\n",
      "홍해인\t15\t3.75\n",
      "윤은성\t12\t3.0\n",
      "홍수철\t11\t2.75\n"
     ]
    }
   ],
   "source": [
    "class CreateOzStudents:\n",
    "    def __init__(self, name, python, database, django, AWS):\n",
    "        self.name = name  # 학생 이름\n",
    "        self.python = python  # 파이썬 점수\n",
    "        self.database = database  # 데이터베이스 점수\n",
    "        self.Django = django  # 장고 점수\n",
    "        self.AWS = AWS  # AWS 점수\n",
    "\n",
    "    def get_sum(self):\n",
    "        return self.python + self.database + self.Django + self.AWS\n",
    "\n",
    "    def get_average(self):\n",
    "        return self.get_sum() / 4\n",
    "\n",
    "    def to_string(self):\n",
    "        return f'{self.name}\\t{self.get_sum()}\\t{self.get_average()}'\n",
    "\n",
    "oz_students = [\n",
    "    CreateOzStudents(\"백현우\", 4, 3, 3, 2),\n",
    "    CreateOzStudents(\"홍해인\", 4, 5, 2, 4),\n",
    "    CreateOzStudents(\"윤은성\", 3, 4, 4, 1),\n",
    "    CreateOzStudents(\"홍수철\", 2, 3, 1, 5)\n",
    "]\n",
    "\n",
    "print(\"이름\", \"총점\", \"평균\", sep=\"\\t\")\n",
    "for student in oz_students:\n",
    "    print(student.to_string())"
   ]
  },
  {
   "cell_type": "code",
   "execution_count": 13,
   "metadata": {},
   "outputs": [
    {
     "name": "stdout",
     "output_type": "stream",
     "text": [
      "이름\t총점\t평균\n",
      "백현우\t12\t3.0\n",
      "홍해인\t15\t3.75\n",
      "윤은성\t12\t3.0\n",
      "홍수철\t11\t2.75\n"
     ]
    }
   ],
   "source": [
    "class CreateOzStudents:\n",
    "    def __init__(self, name, python, database, django, AWS):\n",
    "        self.name = name  # 학생 이름\n",
    "        self.python = python  # 파이썬 점수\n",
    "        self.database = database  # 데이터베이스 점수\n",
    "        self.Django = django  # 장고 점수\n",
    "        self.AWS = AWS  # AWS 점수\n",
    "\n",
    "    def get_sum(self):\n",
    "        return self.python + self.database + self.Django + self.AWS\n",
    "\n",
    "    def get_average(self):\n",
    "        return self.get_sum() / 4\n",
    "\n",
    "    def to_string(self):\n",
    "        return f'{self.name}\\t{self.get_sum()}\\t{self.get_average()}'\n",
    "\n",
    "oz_students = [\n",
    "    CreateOzStudents(\"백현우\", 4, 3, 3, 2),\n",
    "    CreateOzStudents(\"홍해인\", 4, 5, 2, 4),\n",
    "    CreateOzStudents(\"윤은성\", 3, 4, 4, 1),\n",
    "    CreateOzStudents(\"홍수철\", 2, 3, 1, 5)\n",
    "]\n",
    "\n",
    "print(\"이름\", \"총점\", \"평균\", sep=\"\\t\")\n",
    "for student in oz_students:\n",
    "    print(student.to_string())"
   ]
  },
  {
   "cell_type": "code",
   "execution_count": null,
   "metadata": {},
   "outputs": [],
   "source": []
  },
  {
   "cell_type": "code",
   "execution_count": null,
   "metadata": {},
   "outputs": [],
   "source": []
  },
  {
   "cell_type": "code",
   "execution_count": null,
   "metadata": {},
   "outputs": [],
   "source": []
  },
  {
   "cell_type": "code",
   "execution_count": null,
   "metadata": {},
   "outputs": [],
   "source": []
  }
 ],
 "metadata": {
  "kernelspec": {
   "display_name": "Python 3",
   "language": "python",
   "name": "python3"
  },
  "language_info": {
   "codemirror_mode": {
    "name": "ipython",
    "version": 3
   },
   "file_extension": ".py",
   "mimetype": "text/x-python",
   "name": "python",
   "nbconvert_exporter": "python",
   "pygments_lexer": "ipython3",
   "version": "3.13.2"
  }
 },
 "nbformat": 4,
 "nbformat_minor": 2
}
