{
 "cells": [
  {
   "cell_type": "markdown",
   "metadata": {},
   "source": [
    "## 인스턴스\n",
    "\n",
    "인스턴스는 클래스에서 생성된 객체를 의미합니다.\n",
    "\n",
    "다양한 클래스가 존재하는 경우, 어떤 클래스에서 생성된 인스턴스인지 파악하기 어려울 수 있습니다. 또한 인스턴스가 생성된 클래스에 따라 다르게 대응해야 하는 상황도 있습니다. 이럴 때, `isinstance()` 함수를 사용하여 인스턴스가 어떤 클래스에서 생성되었는지 파악할 수 있습니다.\n",
    "\n",
    "`isinstance()`: 이 함수는 첫 번째 매개변수로 인스턴스(객체)를, 두 번째 매개변수로 클래스를 입력받습니다. 두 번째 매개변수로 입력한 클래스로 첫 번째 매개변수의 인스턴스가 생성되었는지를 True, False로 판별하여 반환합니다."
   ]
  },
  {
   "cell_type": "code",
   "execution_count": 1,
   "metadata": {},
   "outputs": [
    {
     "name": "stdout",
     "output_type": "stream",
     "text": [
      "isinstance(student, Student): True\n"
     ]
    }
   ],
   "source": [
    "class Student:\n",
    "    def __init__(self):\n",
    "        pass\n",
    "\n",
    "# Student 클래스의 인스턴스를 생성\n",
    "student = Student()\n",
    "\n",
    "# student 객체가 Student 클래스의 인스턴스인지 확인하고 결과를 출력\n",
    "print(\"isinstance(student, Student):\", isinstance(student, Student))"
   ]
  },
  {
   "cell_type": "code",
   "execution_count": 2,
   "metadata": {},
   "outputs": [
    {
     "name": "stdout",
     "output_type": "stream",
     "text": [
      "파이썬을 수강중입니다.\n",
      "파이썬을 수강중입니다.\n",
      "파이썬을 수강중입니다.\n",
      "자바를 수강중입니다.\n",
      "파이썬을 수강중입니다.\n"
     ]
    }
   ],
   "source": [
    "class Python:\n",
    "    def python(self):\n",
    "        print(\"파이썬을 수강중입니다.\") \n",
    "\n",
    "class Java:\n",
    "    def java(self):\n",
    "        print(\"자바를 수강중입니다.\")  \n",
    "\n",
    "programming_subjects = [Python(), Python(), Python(), Java(), Python()]\n",
    "\n",
    "\n",
    "for subject in programming_subjects:\n",
    "    if isinstance(subject, Python):\n",
    "        subject.python()  # subject가 Python 클래스의 인스턴스인 경우, python 메서드 호출\n",
    "    elif isinstance(subject, Java):\n",
    "        subject.java()  # subject가 Java 클래스의 인스턴스인 경우, java 메서드 호출"
   ]
  },
  {
   "cell_type": "code",
   "execution_count": null,
   "metadata": {},
   "outputs": [],
   "source": []
  }
 ],
 "metadata": {
  "kernelspec": {
   "display_name": "Python 3",
   "language": "python",
   "name": "python3"
  },
  "language_info": {
   "codemirror_mode": {
    "name": "ipython",
    "version": 3
   },
   "file_extension": ".py",
   "mimetype": "text/x-python",
   "name": "python",
   "nbconvert_exporter": "python",
   "pygments_lexer": "ipython3",
   "version": "3.13.2"
  }
 },
 "nbformat": 4,
 "nbformat_minor": 2
}
