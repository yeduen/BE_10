{
 "cells": [
  {
   "cell_type": "markdown",
   "metadata": {},
   "source": [
    "## 프라이빗 변수\n",
    "\n",
    "객체 지향 프로그래밍의 최종 목표는 객체를 효율적으로 만들고 사용하는 것입니다."
   ]
  },
  {
   "cell_type": "code",
   "execution_count": 1,
   "metadata": {},
   "outputs": [
    {
     "name": "stdout",
     "output_type": "stream",
     "text": [
      "원의 둘레: 62.83185307179586\n",
      "원의 넓이: 314.1592653589793\n"
     ]
    }
   ],
   "source": [
    "import math  \n",
    "\n",
    "class OzCircle:\n",
    "    def __init__(self, radius):\n",
    "        self.radius = radius  # 반지름 값을 초기화\n",
    "\n",
    "    def get_circumference(self):\n",
    "        return 2 * math.pi * self.radius\n",
    "\n",
    "    def get_area(self):\n",
    "        return math.pi * (self.radius ** 2)\n",
    "\n",
    "circle = OzCircle(10) # circle.radius = -2\n",
    "\n",
    "print(\"원의 둘레:\", circle.get_circumference())\n",
    "\n",
    "print(\"원의 넓이:\", circle.get_area())"
   ]
  },
  {
   "cell_type": "code",
   "execution_count": 3,
   "metadata": {},
   "outputs": [
    {
     "name": "stdout",
     "output_type": "stream",
     "text": [
      "원의 둘레: 62.83185307179586\n",
      "원의 넓이: 314.1592653589793\n"
     ]
    }
   ],
   "source": [
    "import math  \n",
    "\n",
    "class OzCircle:\n",
    "    def __init__(self, radius):\n",
    "        self.__radius = radius  # 반지름 값을 초기화\n",
    "\n",
    "    def get_circumference(self):\n",
    "        return 2 * math.pi * self.__radius\n",
    "\n",
    "    def get_area(self):\n",
    "        return math.pi * (self.__radius ** 2)\n",
    "\n",
    "circle = OzCircle(10)\n",
    "circle.radius = -2\n",
    "\n",
    "print(\"원의 둘레:\", circle.get_circumference())\n",
    "\n",
    "print(\"원의 넓이:\", circle.get_area())"
   ]
  },
  {
   "cell_type": "code",
   "execution_count": null,
   "metadata": {},
   "outputs": [],
   "source": []
  }
 ],
 "metadata": {
  "kernelspec": {
   "display_name": "Python 3",
   "language": "python",
   "name": "python3"
  },
  "language_info": {
   "codemirror_mode": {
    "name": "ipython",
    "version": 3
   },
   "file_extension": ".py",
   "mimetype": "text/x-python",
   "name": "python",
   "nbconvert_exporter": "python",
   "pygments_lexer": "ipython3",
   "version": "3.13.2"
  }
 },
 "nbformat": 4,
 "nbformat_minor": 2
}
