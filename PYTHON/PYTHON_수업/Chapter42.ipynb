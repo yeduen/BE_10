{
 "cells": [
  {
   "cell_type": "markdown",
   "metadata": {},
   "source": [
    "## 1. 객체\n",
    "\n",
    "객체 : 구현하고자 하는 대상의 **속성과 기능**을 가지는 프로그램 단위\n",
    "\n",
    "ex) 사람을 객체로 만들어봅시다.\n",
    "\n",
    "- 속성 : 눈, 코, 입, 키, 몸무게, 성격 등\n",
    "- 기능 : 다리를 이용해 걷기, 물건을 잡을 때 손가락을 이용하기\n",
    "\n",
    "객체를 만들기 위해서는 속성과 기능이 필요합니다.\n",
    "\n",
    "하지만, 현실 세계에 있는 물건이든, 개념 또는 사상 등을 많은 것들을 프로그램으로 표현하기에는 대상들이 가지고 있는 구성 요소 또는 특징 그리고 기능들이 많습니다.\n",
    "\n",
    "⇒ 객체를 구성하고 있는 속성이 많은 경우, 필요한 속성만을 이용해 객체를 표현하는 개념을 추상화라고 합니다.\n",
    "\n",
    "ex) 개발 공부를 하는 수강생을 객체로 만들기 위해서 필요한 속성과 기능은 무엇일까요?\n",
    "\n",
    "- 이름\n",
    "- Python 활용 능력\n",
    "- Database 활용 능력\n",
    "- Django 활용 능력\n",
    "- AWS 활용 능력\n",
    "\n",
    "생각할 수 있는 기능은 무엇이 있을까요?\n",
    "\n",
    "- 수강 과목별 능력 평균 구하기\n",
    "- 수강 과목별 활용 능력 총점 구하기"
   ]
  },
  {
   "cell_type": "code",
   "execution_count": null,
   "metadata": {},
   "outputs": [
    {
     "name": "stdout",
     "output_type": "stream",
     "text": [
      "이름\t총점\t평균\n",
      "백현우\t12\t3.0\n",
      "홍혜인\t15\t3.75\n",
      "윤은성\t12\t3.0\n",
      "홍수철\t11\t2.75\n"
     ]
    }
   ],
   "source": [
    "# oz_students 리스트는 각 학생의 이름과 그들의 Python, Database, Django, AWS 능력 점수를 저장한 딕셔너리들의 리스트입니다.\n",
    "oz_students = [\n",
    "    {\"name\": \"백현우\", \"python\": 4, \"database\": 3, \"Django\": 3, \"AWS\": 2},\n",
    "    {\"name\": \"홍혜인\", \"python\": 4, \"database\": 5, \"Django\": 2, \"AWS\": 4},\n",
    "    {\"name\": \"윤은성\", \"python\": 3, \"database\": 4, \"Django\": 4, \"AWS\": 1},\n",
    "    {\"name\": \"홍수철\", \"python\": 2, \"database\": 3, \"Django\": 1, \"AWS\": 5},\n",
    "]\n",
    "    # 출력할 표의 헤더를 설정합니다. 이름, 총점, 평균을 탭(\\t)으로 구분하여 출력합니다.\n",
    "print(\"이름\", \"총점\", \"평균\", sep=\"\\t\")\n",
    "\n",
    "# oz_students 리스트의 각 학생에 대해 반복문을 실행합니다.\n",
    "for student in oz_students:\n",
    "    # 각 학생의 Python, Database, Django, AWS 능력 점수를 합산하여 총점을 계산합니다.\n",
    "    ability_sum = student[\"python\"] + student[\"database\"] + student[\"Django\"] + student[\"AWS\"]\n",
    "    # 총점을 4로 나누어 평균을 계산합니다.\n",
    "    ability_average = ability_sum / 4\n",
    "\n",
    "     # 학생의 이름, 총점, 평균을 탭(\\t)으로 구분하여 출력합니다.\n",
    "    print(student[\"name\"], ability_sum, ability_average,  ) "
   ]
  },
  {
   "cell_type": "markdown",
   "metadata": {},
   "source": [
    " 함수를 이용한 객체 사용"
   ]
  },
  {
   "cell_type": "code",
   "execution_count": 1,
   "metadata": {},
   "outputs": [
    {
     "name": "stdout",
     "output_type": "stream",
     "text": [
      "이름\t총점\t평균\n",
      "백현우\t12\t3.0\n",
      "홍혜인\t15\t3.75\n",
      "윤은성\t12\t3.0\n",
      "홍수철\t11\t2.75\n"
     ]
    }
   ],
   "source": [
    "def create_oz_students(name, python, database, django, AWS):\n",
    "    return {\n",
    "        \"name\": name,\n",
    "        \"python\": python,\n",
    "        \"database\": database,\n",
    "        \"Django\": django,\n",
    "        \"AWS\": AWS\n",
    "    }\n",
    "    \n",
    "def get_sum(student):\n",
    "\treturn student[\"python\"] + student[\"database\"] + student[\"Django\"] + student[\"AWS\"]\n",
    "\t\n",
    "def get_average(student):\n",
    "\treturn get_sum / 4\t\n",
    "\n",
    "# oz_students 리스트는 create_oz_students 함수를 사용하여 각 학생의 정보를 포함하는 딕셔너리들의 리스트를 생성합니다.\n",
    "oz_students = [\n",
    "    create_oz_students(\"백현우\", 4, 3, 3, 2),\n",
    "    create_oz_students(\"홍혜인\", 4, 5, 2, 4),\n",
    "    create_oz_students(\"윤은성\", 3, 4, 4, 1),\n",
    "    create_oz_students(\"홍수철\", 2, 3, 1, 5)\n",
    "]\n",
    "\n",
    "# 출력할 표의 헤더를 설정합니다. 이름, 총점, 평균을 탭(\\t)으로 구분하여 출력합니다.\n",
    "print(\"이름\", \"총점\", \"평균\", sep=\"\\t\")\n",
    "\n",
    "# oz_students 리스트의 각 학생에 대해 반복문을 실행합니다.\n",
    "for student in oz_students:\n",
    "    # 각 학생의 Python, Database, Django, AWS 능력 점수를 합산하여 총점을 계산합니다.\n",
    "    ability_sum = student[\"python\"] + student[\"database\"] + student[\"Django\"] + student[\"AWS\"]\n",
    "    # 총점을 4로 나누어 평균을 계산합니다.\n",
    "    ability_average = ability_sum / 4\n",
    "    \n",
    "    # 학생의 이름, 총점, 평균을 탭(\\t)으로 구분하여 출력합니다.\n",
    "    print(student[\"name\"], ability_sum, ability_average, sep=\"\\t\")"
   ]
  },
  {
   "cell_type": "markdown",
   "metadata": {},
   "source": [
    "## 클래스의 선언\n",
    "\n",
    "클래스 이름의 앞글자는 무조건 대문자입니다.(모두의 약속)\n",
    "\n",
    "ex) oz_students → OzStudent"
   ]
  },
  {
   "cell_type": "code",
   "execution_count": 2,
   "metadata": {},
   "outputs": [],
   "source": [
    "class CreateOzStudent:\n",
    "    pass  # 아직 클래스 내부에 아무 내용도 정의하지 않았음을 나타냅니다.\n",
    "\t\n",
    "# 클래스 이름과 같은 함수(생성자)를 사용해서 객체를 만듭니다.\n",
    "# 여기서 프로그래밍 언어로 함수(생성자)로 생성된 객체를 인스턴스라고 합니다.\n",
    "# class CreateOzStudent 클래스와 동일한 이름의 CreateOzStudent() 함수를 사용해 객체를 만드는데,\n",
    "# 이때 사용하는 CreateOzStudent() 함수를 생성자 함수라고 합니다.\n",
    "# student => 클래스를 이용해 만들어진 객체를 인스턴스라고 합니다.\n",
    "\n",
    "# CreateOzStudent 클래스의 인스턴스를 생성합니다.\n",
    "student = CreateOzStudent()\n",
    "\n",
    "# oz_students 리스트는 각 학생의 정보를 포함하는 딕셔너리들의 리스트를 생성합니다.\n",
    "oz_students = [\n",
    "    create_oz_students(\"백현우\", 4, 3, 3, 2),\n",
    "    create_oz_students(\"홍혜인\", 4, 5, 2, 4),\n",
    "    create_oz_students(\"윤은성\", 3, 4, 4, 1),\n",
    "    create_oz_students(\"홍수철\", 2, 3, 1, 5)\n",
    "]"
   ]
  },
  {
   "cell_type": "markdown",
   "metadata": {},
   "source": []
  }
 ],
 "metadata": {
  "kernelspec": {
   "display_name": "Python 3",
   "language": "python",
   "name": "python3"
  },
  "language_info": {
   "codemirror_mode": {
    "name": "ipython",
    "version": 3
   },
   "file_extension": ".py",
   "mimetype": "text/x-python",
   "name": "python",
   "nbconvert_exporter": "python",
   "pygments_lexer": "ipython3",
   "version": "3.13.2"
  }
 },
 "nbformat": 4,
 "nbformat_minor": 2
}
