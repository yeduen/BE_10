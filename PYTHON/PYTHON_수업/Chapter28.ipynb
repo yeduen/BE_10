{
 "cells": [
  {
   "cell_type": "markdown",
   "metadata": {},
   "source": [
    "## 조기 리턴\n",
    "\n",
    "함수에서 return은 함수의 종료를 알리는데 주로 사용됩니다.\n",
    "\n",
    "또한, 함수 안에서 return 키워드를 만나면 함수를 호출했던 곳으로 이동합니다."
   ]
  },
  {
   "cell_type": "code",
   "execution_count": null,
   "metadata": {},
   "outputs": [],
   "source": [
    "memo ={\n",
    "    1: 1,\n",
    "    2: 1,\n",
    "}\n",
    "\n",
    "count = 0\n",
    "\n",
    "def oz_fibo(n):\n",
    "    print(f'피보나치 수열{n}을 구하는 중입니다.')\n",
    "    global count #내부에 있는 함수가 외부의 함수를 참조하려면 global을 써야한다\n",
    "    count += 1\n",
    "\n",
    "    if n in memo:\n",
    "        return memo[n]\n",
    "    else:\n",
    "        output = oz_fibo(n-1) + oz_fibo(n-2)\n",
    "        memo[n] = output\n",
    "        return output\n",
    "\n",
    "n = int(input(\"구하고자하는 피보나치의 수열의 수를 입력해주세요.\"))\n",
    "oz_fibo(n)\n",
    "print(f'피보나치 수열 {n}을 구하기 위해 계산된횟수는 {count}입니다')"
   ]
  },
  {
   "cell_type": "code",
   "execution_count": 1,
   "metadata": {},
   "outputs": [
    {
     "name": "stdout",
     "output_type": "stream",
     "text": [
      "피보나치 수열10을 구하는 중입니다.\n",
      "피보나치 수열9을 구하는 중입니다.\n",
      "피보나치 수열8을 구하는 중입니다.\n",
      "피보나치 수열7을 구하는 중입니다.\n",
      "피보나치 수열6을 구하는 중입니다.\n",
      "피보나치 수열5을 구하는 중입니다.\n",
      "피보나치 수열4을 구하는 중입니다.\n",
      "피보나치 수열3을 구하는 중입니다.\n",
      "피보나치 수열2을 구하는 중입니다.\n",
      "피보나치 수열1을 구하는 중입니다.\n",
      "피보나치 수열2을 구하는 중입니다.\n",
      "피보나치 수열3을 구하는 중입니다.\n",
      "피보나치 수열4을 구하는 중입니다.\n",
      "피보나치 수열5을 구하는 중입니다.\n",
      "피보나치 수열6을 구하는 중입니다.\n",
      "피보나치 수열7을 구하는 중입니다.\n",
      "피보나치 수열8을 구하는 중입니다.\n",
      "피보나치 수열 10을 구하기 위해 계산된횟수는 17입니다\n"
     ]
    }
   ],
   "source": [
    "memo ={\n",
    "    1: 1,\n",
    "    2: 1,\n",
    "}\n",
    "\n",
    "count = 0\n",
    "\n",
    "def oz_fibo(n):\n",
    "    print(f'피보나치 수열{n}을 구하는 중입니다.')\n",
    "    global count #내부에 있는 함수가 외부의 함수를 참조하려면 global을 써야한다\n",
    "    count += 1\n",
    "\n",
    "    if n in memo:\n",
    "        return memo[n]\n",
    "    \n",
    "    output = oz_fibo(n-1) + oz_fibo(n-2)\n",
    "    memo[n] = output\n",
    "    return output\n",
    "\n",
    "n = int(input(\"구하고자하는 피보나치의 수열의 수를 입력해주세요.\"))\n",
    "oz_fibo(n)\n",
    "print(f'피보나치 수열 {n}을 구하기 위해 계산된횟수는 {count}입니다')"
   ]
  },
  {
   "cell_type": "code",
   "execution_count": null,
   "metadata": {},
   "outputs": [],
   "source": []
  }
 ],
 "metadata": {
  "kernelspec": {
   "display_name": "Python 3",
   "language": "python",
   "name": "python3"
  },
  "language_info": {
   "codemirror_mode": {
    "name": "ipython",
    "version": 3
   },
   "file_extension": ".py",
   "mimetype": "text/x-python",
   "name": "python",
   "nbconvert_exporter": "python",
   "pygments_lexer": "ipython3",
   "version": "3.11.9"
  }
 },
 "nbformat": 4,
 "nbformat_minor": 2
}
