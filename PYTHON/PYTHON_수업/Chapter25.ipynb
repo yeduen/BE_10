{
 "cells": [
  {
   "cell_type": "markdown",
   "metadata": {},
   "source": [
    "## return\n",
    "\n",
    "return 키워드 : 함수를 실행한 위치로 되돌아 감, 일반적으로 함수가 끝나는 위치에 return을 사용합니다."
   ]
  },
  {
   "cell_type": "markdown",
   "metadata": {},
   "source": []
  },
  {
   "cell_type": "markdown",
   "metadata": {},
   "source": []
  },
  {
   "cell_type": "markdown",
   "metadata": {},
   "source": []
  },
  {
   "cell_type": "code",
   "execution_count": 2,
   "metadata": {},
   "outputs": [
    {
     "name": "stdout",
     "output_type": "stream",
     "text": [
      "파이썬\n",
      "재미있엉\n"
     ]
    }
   ],
   "source": [
    "# 값 없이 리턴하는 경우\n",
    "def oz_return():\n",
    "    print(\"파이썬\")  # \"파이썬\"을 출력\n",
    "    print(\"재미있엉\")  # \"재미있엉\"을 출력\n",
    "    return  # 함수 종료, 이후의 코드는 실행되지 않음\n",
    "    print(\"거짓말하네\")  # 이 코드는 실행되지 않음, return 이후의 코드는 무시됨\n",
    "    \n",
    "oz_return()"
   ]
  },
  {
   "cell_type": "code",
   "execution_count": 4,
   "metadata": {},
   "outputs": [
    {
     "name": "stdout",
     "output_type": "stream",
     "text": [
      "파이썬 재미있어\n"
     ]
    }
   ],
   "source": [
    "# 값과 함께 return\n",
    "\n",
    "def oz_return():\n",
    "    return \"파이썬 재미있어\"\n",
    "\n",
    "result = oz_return()\n",
    "print(result)"
   ]
  },
  {
   "cell_type": "code",
   "execution_count": 5,
   "metadata": {},
   "outputs": [
    {
     "name": "stdout",
     "output_type": "stream",
     "text": [
      "None\n"
     ]
    }
   ],
   "source": [
    "def oz_return():\n",
    "    return\n",
    "\n",
    "result = oz_return()\n",
    "print(result)"
   ]
  },
  {
   "cell_type": "code",
   "execution_count": 6,
   "metadata": {},
   "outputs": [
    {
     "data": {
      "text/plain": [
       "False"
      ]
     },
     "execution_count": 6,
     "metadata": {},
     "output_type": "execute_result"
    }
   ],
   "source": [
    "bool(None)"
   ]
  },
  {
   "cell_type": "code",
   "execution_count": null,
   "metadata": {},
   "outputs": [],
   "source": [
    "result = input(\"1+1은 ?\")\n",
    "print(result)"
   ]
  },
  {
   "cell_type": "code",
   "execution_count": null,
   "metadata": {},
   "outputs": [],
   "source": []
  },
  {
   "cell_type": "code",
   "execution_count": null,
   "metadata": {},
   "outputs": [],
   "source": []
  }
 ],
 "metadata": {
  "kernelspec": {
   "display_name": "Python 3",
   "language": "python",
   "name": "python3"
  },
  "language_info": {
   "codemirror_mode": {
    "name": "ipython",
    "version": 3
   },
   "file_extension": ".py",
   "mimetype": "text/x-python",
   "name": "python",
   "nbconvert_exporter": "python",
   "pygments_lexer": "ipython3",
   "version": "3.11.9"
  }
 },
 "nbformat": 4,
 "nbformat_minor": 2
}
