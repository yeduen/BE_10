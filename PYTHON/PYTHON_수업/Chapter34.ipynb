{
 "cells": [
  {
   "cell_type": "markdown",
   "metadata": {},
   "source": [
    "## try except 구문이란?\n",
    "\n",
    "모든 예외처리 사항을 조건문으로 처리하는건 굉장히 귀찮고 어려운 문제입니다.\n",
    "\n",
    "요즘 프로그램은 대부분 예외를 처리하는 구문을 제공합니다."
   ]
  },
  {
   "cell_type": "markdown",
   "metadata": {},
   "source": [
    " try except의 구조\n",
    "\n",
    "try:\n",
    "\t예외가 발생할 가능성이 있는 코드\n",
    "except:\n",
    "\t예외가 발생했을 때 실행할 코드"
   ]
  },
  {
   "cell_type": "code",
   "execution_count": null,
   "metadata": {},
   "outputs": [],
   "source": [
    "# 조건문으로 예외처리한 코드\n",
    "\n",
    "x, y = input(\"밑변과 높이를 입력해주세요\").split(\" \")\n",
    "\n",
    "if x.isdigit() and y.isdigit():\n",
    "    x, y = int(x), int(y)\n",
    "    print(f'삼각형의 넓이는 {x*y/2}입니다')\n",
    "else:\n",
    "    print(\"정수로 입력하지 않아 계산이 불가합니다.\")"
   ]
  },
  {
   "cell_type": "code",
   "execution_count": 6,
   "metadata": {},
   "outputs": [
    {
     "name": "stdout",
     "output_type": "stream",
     "text": [
      "삼각형의 넓이는 7.5입니다.\n"
     ]
    }
   ],
   "source": [
    "try:\n",
    "    # 사용자로부터 밑변과 높이를 입력받습니다.\n",
    "    # 입력받은 값들을 공백을 기준으로 나누고, 각각 정수로 변환합니다.\n",
    "    x, y = map(int, input(\"밑변과 높이를 입력해주세요\").split(\" \"))\n",
    "    \n",
    "    # 삼각형의 넓이를 계산하여 출력합니다.\n",
    "    # 넓이는 밑변 * 높이 / 2 로 계산됩니다.\n",
    "    print(f'삼각형의 넓이는 {x * y / 2}입니다.')\n",
    "except:\n",
    "    # 예외가 발생하면 (입력값이 정수가 아니거나 다른 오류가 발생한 경우)\n",
    "    # 오류 메시지를 출력합니다.\n",
    "    print(\"정수로 입력하지 않아 계산이 불가능합니다.\")"
   ]
  },
  {
   "cell_type": "markdown",
   "metadata": {},
   "source": [
    "## try except 구문과 pass 키워드\n",
    "\n",
    "예외가 발생하더라도 지금 **당장 처리하지 않아도 되는 부분**이라면 pass 키워드를 사용하여 넘어갑니다.\n",
    "\n",
    "try:\n",
    "\t예외가 발생할 가능성이 있는 코드\n",
    "except:\n",
    "\tpass"
   ]
  },
  {
   "cell_type": "code",
   "execution_count": 9,
   "metadata": {},
   "outputs": [
    {
     "name": "stdout",
     "output_type": "stream",
     "text": [
      "['1', '7', '3', '스파이', '4']내부에 있는 숫자는\n",
      "['1', '7', '3', '4']입니다\n"
     ]
    }
   ],
   "source": [
    "list_input = [\"1\",\"7\",\"3\",\"스파이\",\"4\"]\n",
    "list_number = []\n",
    "\n",
    "for item in list_input:\n",
    "    try:\n",
    "        int(item)\n",
    "        list_number.append(item)\n",
    "    except:\n",
    "        pass\n",
    "print(f'{list_input}내부에 있는 숫자는')\n",
    "print(f'{list_number}입니다')"
   ]
  },
  {
   "cell_type": "markdown",
   "metadata": {},
   "source": [
    "## try except 구문과 else 키워드\n",
    "\n",
    "else 구문을 붙여서 사용하면 **예외가 발생하지 않았을 때 실행할 코드**를 지정할 수 있습니다.\n",
    "\n",
    "try:\n",
    "\t예외가 발생할 가능성이 있는 코드\n",
    "except:\n",
    "\t예외가 발생했을 때 실행할 코드\n",
    "else:\n",
    "\t예외가 발생하지 않았을 때 실행할 코드"
   ]
  },
  {
   "cell_type": "code",
   "execution_count": 10,
   "metadata": {},
   "outputs": [
    {
     "name": "stdout",
     "output_type": "stream",
     "text": [
      "삼각형의 넓이는 7.5입니다.\n"
     ]
    }
   ],
   "source": [
    "try:\n",
    "    x, y = map(int, input(\"밑변과 높이를 입력해주세요\").split(\" \"))\n",
    "\n",
    "except:\n",
    "    print(\"정수로 입력하지 않아 계산이 불가능합니다.\")\n",
    "else:\n",
    "    print(f'삼각형의 넓이는 {x * y / 2}입니다.')"
   ]
  },
  {
   "cell_type": "markdown",
   "metadata": {},
   "source": [
    "## ry except 구문과 finally 키워드\n",
    "\n",
    "finally는 예외 처리 구문에서 가장 **마지막**에 사용할 수 있는 구문입니다.\n",
    "\n",
    "예외 발생 여부와 관계 없이 무조건 실행되는 코드입니다.\n",
    "\n",
    "try:\n",
    "\t예외가 발생할 가능성이 있는 코드\n",
    "except:\n",
    "\t예외가 발생했을 때 실행할 코드\n",
    "else:\n",
    "\t예외가 발생하지 않았을 때 실행할 코드\n",
    "finally:\n",
    "\t무조건 실행할 코드\n",
    "\n",
    "\n",
    "return 구문으로 함수를 빠져나오더라도 finally 구문이 있다면 finally 구문이 실행됩니다.\n",
    "\n",
    "또한, 반복문의 break문을 만나 빠져나와도 finally 구문이 있다면 finally 구문이 실행됩니다."
   ]
  },
  {
   "cell_type": "code",
   "execution_count": 11,
   "metadata": {},
   "outputs": [
    {
     "name": "stdout",
     "output_type": "stream",
     "text": [
      "삼각형의 넓이는 7.5입니다.\n",
      "프로그램 종료\n"
     ]
    }
   ],
   "source": [
    "try:\n",
    "    x, y = map(int, input(\"밑변과 높이를 입력해주세요\").split(\" \"))\n",
    "\n",
    "except:\n",
    "    print(\"정수로 입력하지 않아 계산이 불가능합니다.\")\n",
    "else:\n",
    "    print(f'삼각형의 넓이는 {x * y / 2}입니다.')\n",
    "finally:\n",
    "    print(\"프로그램 종료\")"
   ]
  },
  {
   "cell_type": "code",
   "execution_count": 14,
   "metadata": {},
   "outputs": [
    {
     "name": "stdout",
     "output_type": "stream",
     "text": [
      "파일이 닫혔습니다.\n"
     ]
    }
   ],
   "source": [
    "try:\n",
    "    # 파일을 열고 내용을 읽습니다.\n",
    "    file = open(\"example.txt\", \"r\")\n",
    "    data = file.read()\n",
    "except FileNotFoundError:\n",
    "    # 파일이 존재하지 않을 때의 예외 처리\n",
    "    print(\"파일을 찾을 수 없습니다.\")\n",
    "finally:\n",
    "    # 예외 발생 여부와 관계없이 파일을 닫습니다.\n",
    "    file.close()\n",
    "    print(\"파일이 닫혔습니다.\")"
   ]
  },
  {
   "cell_type": "code",
   "execution_count": null,
   "metadata": {},
   "outputs": [],
   "source": []
  },
  {
   "cell_type": "code",
   "execution_count": null,
   "metadata": {},
   "outputs": [],
   "source": []
  },
  {
   "cell_type": "code",
   "execution_count": null,
   "metadata": {},
   "outputs": [],
   "source": []
  },
  {
   "cell_type": "code",
   "execution_count": null,
   "metadata": {},
   "outputs": [],
   "source": []
  },
  {
   "cell_type": "code",
   "execution_count": null,
   "metadata": {},
   "outputs": [],
   "source": []
  },
  {
   "cell_type": "code",
   "execution_count": null,
   "metadata": {},
   "outputs": [],
   "source": []
  },
  {
   "cell_type": "code",
   "execution_count": null,
   "metadata": {},
   "outputs": [],
   "source": []
  },
  {
   "cell_type": "code",
   "execution_count": null,
   "metadata": {},
   "outputs": [],
   "source": []
  }
 ],
 "metadata": {
  "kernelspec": {
   "display_name": "Python 3",
   "language": "python",
   "name": "python3"
  },
  "language_info": {
   "codemirror_mode": {
    "name": "ipython",
    "version": 3
   },
   "file_extension": ".py",
   "mimetype": "text/x-python",
   "name": "python",
   "nbconvert_exporter": "python",
   "pygments_lexer": "ipython3",
   "version": "3.11.9"
  }
 },
 "nbformat": 4,
 "nbformat_minor": 2
}
