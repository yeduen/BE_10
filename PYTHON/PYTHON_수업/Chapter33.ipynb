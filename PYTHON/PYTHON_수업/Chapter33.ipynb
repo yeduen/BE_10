{
 "cells": [
  {
   "cell_type": "markdown",
   "metadata": {},
   "source": [
    "## 구문 오류(Systax Error)\n",
    "\n",
    "괄호의 개수, 들여쓰기 문제 등으로 프로그램이 실행되기도 전에 발생하는 오류입니다.\n",
    "\n",
    "구문 오류는 해결되지 않으면 **프로그램 실행이 불가능**합니다."
   ]
  },
  {
   "cell_type": "code",
   "execution_count": 4,
   "metadata": {},
   "outputs": [
    {
     "name": "stdout",
     "output_type": "stream",
     "text": [
      "오류는 아주 사소한 것부터 발생합니다.\n"
     ]
    }
   ],
   "source": [
    "#구문오류 예제\n",
    "print(\"오류는 아주 사소한 것부터 발생합니다.\")"
   ]
  },
  {
   "cell_type": "code",
   "execution_count": null,
   "metadata": {},
   "outputs": [
    {
     "ename": "SyntaxError",
     "evalue": "incomplete input (1321036447.py, line 2)",
     "output_type": "error",
     "traceback": [
      "  \u001b[36mCell\u001b[39m\u001b[36m \u001b[39m\u001b[32mIn[5]\u001b[39m\u001b[32m, line 2\u001b[39m\n\u001b[31m    \u001b[39m\u001b[31mprint(\"오류는 아주 사소한 것부터 발생합니다.\"\u001b[39m\n                                 ^\n\u001b[31mSyntaxError\u001b[39m\u001b[31m:\u001b[39m incomplete input\n"
     ]
    }
   ],
   "source": [
    "#닫는 괄호를 생략한 경우\n",
    "print(\"오류는 아주 사소한 것부터 발생합니다.\"\n",
    "      \n",
    "#syntaxError 는 문법에 맞지 않는 코드 작성시 발생"
   ]
  },
  {
   "cell_type": "markdown",
   "metadata": {},
   "source": [
    "## 예외(Runtime Error)\n",
    "\n",
    "실행 중에 발생하는 오류입니다.\n",
    "\n",
    "**오류 키워드**를 잘 살펴야 빠른 해결이 가능합니다."
   ]
  },
  {
   "cell_type": "code",
   "execution_count": null,
   "metadata": {},
   "outputs": [
    {
     "name": "stdout",
     "output_type": "stream",
     "text": [
      "오류는 아주 사소한 것부터 발생합니다.\n"
     ]
    },
    {
     "ename": "NameError",
     "evalue": "name 'dogs' is not defined",
     "output_type": "error",
     "traceback": [
      "\u001b[31m---------------------------------------------------------------------------\u001b[39m",
      "\u001b[31mNameError\u001b[39m                                 Traceback (most recent call last)",
      "\u001b[36mCell\u001b[39m\u001b[36m \u001b[39m\u001b[32mIn[8]\u001b[39m\u001b[32m, line 5\u001b[39m\n\u001b[32m      2\u001b[39m \u001b[38;5;28mprint\u001b[39m(\u001b[33m\"\u001b[39m\u001b[33m오류는 아주 사소한 것부터 발생합니다.\u001b[39m\u001b[33m\"\u001b[39m)\n\u001b[32m      4\u001b[39m \u001b[38;5;66;03m#예외 발생\u001b[39;00m\n\u001b[32m----> \u001b[39m\u001b[32m5\u001b[39m \u001b[43mdogs\u001b[49m.append(\u001b[33m\"\u001b[39m\u001b[33m말티즈\u001b[39m\u001b[33m\"\u001b[39m)\n",
      "\u001b[31mNameError\u001b[39m: name 'dogs' is not defined"
     ]
    }
   ],
   "source": [
    "#정상실행\n",
    "print(\"오류는 아주 사소한 것부터 발생합니다.\")\n",
    "\n",
    "#예외 발생\n",
    "dogs.append(\"말티즈\")\n"
   ]
  },
  {
   "cell_type": "code",
   "execution_count": 9,
   "metadata": {},
   "outputs": [
    {
     "name": "stdout",
     "output_type": "stream",
     "text": [
      "오류는 아주 사소한 것부터 발생합니다.\n",
      "['닥스훈트', '시바견', '말티즈']\n"
     ]
    }
   ],
   "source": [
    "#정상 실행\n",
    "print(\"오류는 아주 사소한 것부터 발생합니다.\")\n",
    "\n",
    "#예외 발생 코드 해결\n",
    "dogs = [\"닥스훈트\", \"시바견\"]\n",
    "dogs.append(\"말티즈\")\n",
    "print(dogs)"
   ]
  },
  {
   "cell_type": "markdown",
   "metadata": {},
   "source": [
    "## 예외처리\n",
    "\n",
    "예외를 해결하는 모든 것을 예외 처리라고 합니다.\n",
    "\n",
    "예외는 **조건문**을 사용하거나, **try 구문**을 사용하여 해결할 수 있습니다.\n",
    "\n",
    "구문 오류가 발생하는 경우는 예외 처리로 해결이 불가능 하여 코드 자체를 수정해야 해결됩니다."
   ]
  },
  {
   "cell_type": "markdown",
   "metadata": {},
   "source": [
    "## 조건문을 이용한 예외 처리\n",
    "\n",
    "조건문을 이용한 예외 처리 방법을 기본 예외 처리라고 합니다.\n",
    "\n",
    "예외가 발생할 수 있는 **상황을 파악**하는 것이 중요합니다."
   ]
  },
  {
   "cell_type": "code",
   "execution_count": null,
   "metadata": {},
   "outputs": [
    {
     "name": "stdout",
     "output_type": "stream",
     "text": [
      "삼각형의 넓이는 7.5입니다\n"
     ]
    }
   ],
   "source": [
    "x, y = map(int, input(\"밑변과 높이를 입력해주세요\").split(\" \"))\n",
    "\n",
    "print(f'삼각형의 넓이는 {x*y/2}입니다')"
   ]
  },
  {
   "cell_type": "code",
   "execution_count": null,
   "metadata": {},
   "outputs": [],
   "source": [
    "# x=3cm, y=5cm\n",
    "x, y = map(int, input(\"밑변과 높이를 입력해주세요\").split(\" \"))\n",
    "\n",
    "print(f'삼각형의 넓이는 {x*y/2}입니다')"
   ]
  },
  {
   "cell_type": "markdown",
   "metadata": {},
   "source": [
    "isdigit() : 숫자로만 구성되어있는 글자인지를 판단하고,\n",
    "            숫자로 변환이 가능한 글자라면 true를 반환합니다.\n",
    "            \n",
    "ex) num = \"3\"\n",
    "isdigit(num) => true"
   ]
  },
  {
   "cell_type": "code",
   "execution_count": 13,
   "metadata": {},
   "outputs": [
    {
     "name": "stdout",
     "output_type": "stream",
     "text": [
      "정수로 입력하지 않아 계산이 불가합니다.\n"
     ]
    }
   ],
   "source": [
    "x, y = input(\"밑변과 높이를 입력해주세요\").split(\" \")\n",
    "\n",
    "if x.isdigit() and y.isdigit():\n",
    "    x, y = int(x), int(y)\n",
    "    print(f'삼각형의 넓이는 {x*y/2}입니다')\n",
    "else:\n",
    "    print(\"정수로 입력하지 않아 계산이 불가합니다.\")"
   ]
  },
  {
   "cell_type": "code",
   "execution_count": null,
   "metadata": {},
   "outputs": [],
   "source": []
  },
  {
   "cell_type": "code",
   "execution_count": null,
   "metadata": {},
   "outputs": [],
   "source": []
  }
 ],
 "metadata": {
  "kernelspec": {
   "display_name": "Python 3",
   "language": "python",
   "name": "python3"
  },
  "language_info": {
   "codemirror_mode": {
    "name": "ipython",
    "version": 3
   },
   "file_extension": ".py",
   "mimetype": "text/x-python",
   "name": "python",
   "nbconvert_exporter": "python",
   "pygments_lexer": "ipython3",
   "version": "3.11.9"
  }
 },
 "nbformat": 4,
 "nbformat_minor": 2
}
